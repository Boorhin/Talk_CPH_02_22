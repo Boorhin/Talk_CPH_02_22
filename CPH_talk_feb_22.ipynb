{
 "cells": [
  {
   "cell_type": "code",
   "execution_count": 39,
   "metadata": {
    "jupyter": {
     "source_hidden": true
    },
    "tags": []
   },
   "outputs": [
    {
     "data": {
      "text/html": [
       "<style>\n",
       "img{  display: block;\n",
       "  margin-left: auto;\n",
       "  margin-right: auto;\n",
       "  width: 90%;}\n",
       "H2{text-align: center;\n",
       "  font-weight: bold;\n",
       "  }\n",
       "</style>\n"
      ],
      "text/plain": [
       "<IPython.core.display.HTML object>"
      ]
     },
     "metadata": {},
     "output_type": "display_data"
    }
   ],
   "source": [
    "%%html\n",
    "<style>\n",
    "img{  display: block;\n",
    "  margin-left: auto;\n",
    "  margin-right: auto;\n",
    "  width: 90%;}\n",
    "H2{text-align: center;\n",
    "  font-weight: bold;\n",
    "  }\n",
    "</style>"
   ]
  },
  {
   "cell_type": "code",
   "execution_count": 14,
   "metadata": {
    "jupyter": {
     "source_hidden": true
    },
    "tags": []
   },
   "outputs": [],
   "source": [
    "import matplotlib.pyplot as plt\n",
    "import numpy as np\n",
    "import json, urllib\n",
    "from datetime import datetime, timedelta\n",
    "import matplotlib.ticker as  mt\n",
    "import xarray as xr\n",
    "import plotly.graph_objects as go"
   ]
  },
  {
   "cell_type": "markdown",
   "metadata": {
    "tags": []
   },
   "source": [
    "The talk material is available here:\n",
    "https://github.com/Boorhin/Talk_CPH_02_22/blob/main/CPH_talk_feb_22.ipynb\n",
    "\n",
    "---\n",
    "\n",
    "![logo](figures/logo_baneer.png)\n",
    "# **Where is all the macroplastic in the ocean?** \n",
    "# **Oceanographic and sedimentological observations from NW Scotland**\n",
    "## _Dr Julien Moreau_\n",
    "---"
   ]
  },
  {
   "cell_type": "markdown",
   "metadata": {},
   "source": [
    "![intro](figures/Intro_nature.png) [¹]\n",
    "[¹][Lebreton et al., 2019, scientific report](https://www.nature.com/articles/s41598-019-49413-5)"
   ]
  },
  {
   "cell_type": "markdown",
   "metadata": {
    "jp-MarkdownHeadingCollapsed": true,
    "tags": []
   },
   "source": [
    "## We are missing 99% of floating ocean plastic, where is it?\n",
    "![travolta](figures/travolta.gif)\n",
    "\n",
    "---"
   ]
  },
  {
   "cell_type": "markdown",
   "metadata": {},
   "source": [
    "## But how do we measure the concentration of plastic in the ocean?\n",
    "### Mostly we use trawl nets with very thin meshes. Plastic concentration measures are generally a by-product of oceanic plankton studies as they get caught in similar equipment\n",
    "* Standard large plankton net\n",
    "![plankton net](figures/plankton_net.jpg)\n",
    "* More popular now, manta nets\n",
    "![manta net](figures/manta_nets.jpg)\n"
   ]
  },
  {
   "cell_type": "markdown",
   "metadata": {},
   "source": [
    "## Do you notice a limitation?\n",
    "---"
   ]
  },
  {
   "cell_type": "markdown",
   "metadata": {},
   "source": [
    "## Size matters ...\n",
    "* Before the start of The Ocean Cleanup research most accounted plastic in the Great Pacific Garbage Patch was the *Plastic soup* \n",
    "* The combination of trawls, aerial surveys and GPS tagging of large debris started to show a totally different figure [¹]\n",
    "![2 types of trawls](figures/difference_in_trawl_content.png)"
   ]
  },
  {
   "cell_type": "markdown",
   "metadata": {},
   "source": [
    "### Bigger debris need a more *geoscientific* approach, aerial surveys [¹]\n",
    "![aerial photos](figures/aerial_photographs.png)\n",
    "\n",
    "---"
   ]
  },
  {
   "cell_type": "markdown",
   "metadata": {},
   "source": [
    "## A very different pattern is emerging from the new surveying techniques\n",
    "\n",
    "![cleanup stats](figures/ocean_cleanup_curves.png)\n",
    "\n",
    "### Learnings:\n",
    "* 50% of the mass of plastic in the GPGP is distributed in a non-linear way\n",
    "* Fishing-aquaculture-shipping waste is a major contributor of pollution in the open ocean\n",
    "* Plastic surveys not accounting for weight and mega-plastics **do not provide a realistic vision of ocean plastic pollution**\n",
    "\n",
    "### Yet:\n",
    "* The same kind of surveys are used over and over to establish the pollution situation based on counting items only and preferably in urban areas. Generally ignoring mega-plastics.\n",
    "* Only very recently do we start to have some accounting on the industrial pollution resulting from offshore activities.\n",
    "\n",
    "---\n"
   ]
  },
  {
   "cell_type": "markdown",
   "metadata": {},
   "source": [
    "## So what is going on in NW Scotland?\n",
    "\n",
    "![location](figures/location.png)\n",
    "\n",
    "![demographic context](figures/density_europe.png)\n",
    "\n",
    "## It is catastrophic...\n",
    "\n",
    "![scouriemore](figures/scouriemore.png)"
   ]
  },
  {
   "cell_type": "markdown",
   "metadata": {},
   "source": [
    "## Preliminary surveys and models in 2017 scared me\n",
    "All the models are here => https://github.com/Boorhin/MarinePlasticTools\n",
    "\n",
    "![word production](figures/world_production.png)\n",
    "\n",
    "![local beaches](figures/local_beach_simulations.png)"
   ]
  },
  {
   "cell_type": "markdown",
   "metadata": {},
   "source": [
    "## In fact the guys copied me in 2019 ;)\n",
    "### The fancy way [Lebreton et al 2019 scientific reports](https://www.nature.com/articles/s41598-019-49413-5)\n",
    "![the difference between a geophysicist and an oceanographer](figures/global_mass_balance.png)\n"
   ]
  },
  {
   "cell_type": "markdown",
   "metadata": {},
   "source": [
    "---\n",
    "## We decided to start Plastic@Bay CIC (www.plasticatbay.org)\n",
    "### We use circular economy to fight and understand plastic pollution\n",
    "\n",
    "![community cleans](figures/community_clean.jpg)\n",
    "\n",
    "### We Monitor plastic pollution since April 2017 several times a week\n",
    "\n",
    "![old_report](figures/old_bin_report.png)\n",
    "\n",
    "## We can now demonstrate very similar results than in the GPGP\n",
    "![conor surveys](figures/surveys_conor.png)\n",
    "\n",
    "![GPGP data](figures/ocean_cleanup_curves.png)"
   ]
  },
  {
   "cell_type": "code",
   "execution_count": 2,
   "metadata": {
    "jupyter": {
     "source_hidden": true
    },
    "tags": []
   },
   "outputs": [],
   "source": [
    "def fractions(init, d):\n",
    "    '''calculate the abscissa in year fractions'''\n",
    "    year= d.year\n",
    "    year1st= dt.datetime(year,1,1)\n",
    "    span =dt.datetime(year+1,1,1)-year1st\n",
    "    frac = (d-year1st)/span\n",
    "    Ys= year-init\n",
    "    return Ys+frac"
   ]
  },
  {
   "cell_type": "markdown",
   "metadata": {},
   "source": [
    "## In 2020 we created our own citizen science portal\n",
    "## www.plasticatbay.org/research\n",
    "### We got beach cleaning group to record their data from remote areas that often are particularly polluted and would not be included in *official* databases\n",
    "Here an example of the database"
   ]
  },
  {
   "cell_type": "code",
   "execution_count": 15,
   "metadata": {
    "jupyter": {
     "source_hidden": true
    },
    "tags": []
   },
   "outputs": [],
   "source": [
    "workdir='data/'\n",
    "backup=workdir+'WeightData_27-12-21.json'\n",
    "data = json.loads(open(backup).read())"
   ]
  },
  {
   "cell_type": "code",
   "execution_count": 5,
   "metadata": {
    "collapsed": true,
    "jupyter": {
     "outputs_hidden": true,
     "source_hidden": true
    },
    "tags": []
   },
   "outputs": [
    {
     "name": "stdout",
     "output_type": "stream",
     "text": [
      "{'Id': '1235', 'RecordNb': '1', 'Beach': 'Ard Neackie', 'Lat': '58.4976', 'Longit': '-4.66321', 'Weight': '1000', 'Dates': '2018-11-28', 'team': 'Pentland Canoe Club', 'person': 'someemail'}\n"
     ]
    }
   ],
   "source": [
    "print(data[2]['data'][0])"
   ]
  },
  {
   "cell_type": "code",
   "execution_count": 16,
   "metadata": {
    "jupyter": {
     "source_hidden": true
    },
    "tags": []
   },
   "outputs": [
    {
     "data": {
      "text/html": [
       "<div>\n",
       "<style scoped>\n",
       "    .dataframe tbody tr th:only-of-type {\n",
       "        vertical-align: middle;\n",
       "    }\n",
       "\n",
       "    .dataframe tbody tr th {\n",
       "        vertical-align: top;\n",
       "    }\n",
       "\n",
       "    .dataframe thead th {\n",
       "        text-align: right;\n",
       "    }\n",
       "</style>\n",
       "<table border=\"1\" class=\"dataframe\">\n",
       "  <thead>\n",
       "    <tr style=\"text-align: right;\">\n",
       "      <th></th>\n",
       "      <th>Id</th>\n",
       "      <th>RecordNb</th>\n",
       "      <th>Beach</th>\n",
       "      <th>Lat</th>\n",
       "      <th>Longit</th>\n",
       "      <th>Weight</th>\n",
       "      <th>Dates</th>\n",
       "      <th>team</th>\n",
       "      <th>person</th>\n",
       "    </tr>\n",
       "  </thead>\n",
       "  <tbody>\n",
       "    <tr>\n",
       "      <th>0</th>\n",
       "      <td>1235</td>\n",
       "      <td>1</td>\n",
       "      <td>Ard Neackie</td>\n",
       "      <td>58.4976</td>\n",
       "      <td>-4.66321</td>\n",
       "      <td>1000.00</td>\n",
       "      <td>2018-11-28</td>\n",
       "      <td>Pentland Canoe Club</td>\n",
       "      <td>someemail</td>\n",
       "    </tr>\n",
       "    <tr>\n",
       "      <th>1</th>\n",
       "      <td>4</td>\n",
       "      <td>0</td>\n",
       "      <td>Balnakeil</td>\n",
       "      <td>58.5802</td>\n",
       "      <td>-4.76575</td>\n",
       "      <td>500.00</td>\n",
       "      <td>2017-05-04</td>\n",
       "      <td>PlasticatBay</td>\n",
       "      <td>Julien</td>\n",
       "    </tr>\n",
       "    <tr>\n",
       "      <th>2</th>\n",
       "      <td>5</td>\n",
       "      <td>0</td>\n",
       "      <td>Balnakeil</td>\n",
       "      <td>58.5802</td>\n",
       "      <td>-4.76575</td>\n",
       "      <td>7.40</td>\n",
       "      <td>2017-05-08</td>\n",
       "      <td>PlasticatBay</td>\n",
       "      <td>Julien</td>\n",
       "    </tr>\n",
       "    <tr>\n",
       "      <th>3</th>\n",
       "      <td>6</td>\n",
       "      <td>0</td>\n",
       "      <td>Balnakeil</td>\n",
       "      <td>58.5802</td>\n",
       "      <td>-4.76575</td>\n",
       "      <td>6.40</td>\n",
       "      <td>2017-05-13</td>\n",
       "      <td>PlasticatBay</td>\n",
       "      <td>Julien</td>\n",
       "    </tr>\n",
       "    <tr>\n",
       "      <th>4</th>\n",
       "      <td>7</td>\n",
       "      <td>0</td>\n",
       "      <td>Balnakeil</td>\n",
       "      <td>58.5802</td>\n",
       "      <td>-4.76575</td>\n",
       "      <td>8.70</td>\n",
       "      <td>2017-05-21</td>\n",
       "      <td>PlasticatBay</td>\n",
       "      <td>Julien</td>\n",
       "    </tr>\n",
       "    <tr>\n",
       "      <th>...</th>\n",
       "      <td>...</td>\n",
       "      <td>...</td>\n",
       "      <td>...</td>\n",
       "      <td>...</td>\n",
       "      <td>...</td>\n",
       "      <td>...</td>\n",
       "      <td>...</td>\n",
       "      <td>...</td>\n",
       "      <td>...</td>\n",
       "    </tr>\n",
       "    <tr>\n",
       "      <th>5225</th>\n",
       "      <td>5387</td>\n",
       "      <td>0</td>\n",
       "      <td>Dunnet</td>\n",
       "      <td>58.6076</td>\n",
       "      <td>-3.35108</td>\n",
       "      <td>1.00</td>\n",
       "      <td>2021-12-02</td>\n",
       "      <td>Caithness Beach Cleans</td>\n",
       "      <td>Dorchas</td>\n",
       "    </tr>\n",
       "    <tr>\n",
       "      <th>5226</th>\n",
       "      <td>5388</td>\n",
       "      <td>0</td>\n",
       "      <td>Dunnet</td>\n",
       "      <td>58.6076</td>\n",
       "      <td>-3.35108</td>\n",
       "      <td>40.10</td>\n",
       "      <td>2021-12-02</td>\n",
       "      <td>Caithness Beach Cleans</td>\n",
       "      <td>Dorchas</td>\n",
       "    </tr>\n",
       "    <tr>\n",
       "      <th>5227</th>\n",
       "      <td>5389</td>\n",
       "      <td>0</td>\n",
       "      <td>Sandside</td>\n",
       "      <td>58.5635</td>\n",
       "      <td>-3.78514</td>\n",
       "      <td>4.54</td>\n",
       "      <td>2021-12-02</td>\n",
       "      <td>Caithness Beach Cleans</td>\n",
       "      <td>Dorchas</td>\n",
       "    </tr>\n",
       "    <tr>\n",
       "      <th>5228</th>\n",
       "      <td>5390</td>\n",
       "      <td>0</td>\n",
       "      <td>Balnakeil</td>\n",
       "      <td>58.5802</td>\n",
       "      <td>-4.76575</td>\n",
       "      <td>325.00</td>\n",
       "      <td>2021-12-17</td>\n",
       "      <td>PlasticatBay</td>\n",
       "      <td>julien.moreau@plasticatbay.org</td>\n",
       "    </tr>\n",
       "    <tr>\n",
       "      <th>5229</th>\n",
       "      <td>5391</td>\n",
       "      <td>0</td>\n",
       "      <td>Balnakeil</td>\n",
       "      <td>58.5802</td>\n",
       "      <td>-4.76575</td>\n",
       "      <td>10.00</td>\n",
       "      <td>2021-12-26</td>\n",
       "      <td>PlasticatBay</td>\n",
       "      <td>julien.moreau@plasticatbay.org</td>\n",
       "    </tr>\n",
       "  </tbody>\n",
       "</table>\n",
       "<p>5230 rows × 9 columns</p>\n",
       "</div>"
      ],
      "text/plain": [
       "        Id RecordNb        Beach      Lat    Longit   Weight       Dates  \\\n",
       "0     1235        1  Ard Neackie  58.4976  -4.66321  1000.00  2018-11-28   \n",
       "1        4        0    Balnakeil  58.5802  -4.76575   500.00  2017-05-04   \n",
       "2        5        0    Balnakeil  58.5802  -4.76575     7.40  2017-05-08   \n",
       "3        6        0    Balnakeil  58.5802  -4.76575     6.40  2017-05-13   \n",
       "4        7        0    Balnakeil  58.5802  -4.76575     8.70  2017-05-21   \n",
       "...    ...      ...          ...      ...       ...      ...         ...   \n",
       "5225  5387        0       Dunnet  58.6076  -3.35108     1.00  2021-12-02   \n",
       "5226  5388        0       Dunnet  58.6076  -3.35108    40.10  2021-12-02   \n",
       "5227  5389        0     Sandside  58.5635  -3.78514     4.54  2021-12-02   \n",
       "5228  5390        0    Balnakeil  58.5802  -4.76575   325.00  2021-12-17   \n",
       "5229  5391        0    Balnakeil  58.5802  -4.76575    10.00  2021-12-26   \n",
       "\n",
       "                        team                          person  \n",
       "0        Pentland Canoe Club                       someemail  \n",
       "1               PlasticatBay                          Julien  \n",
       "2               PlasticatBay                          Julien  \n",
       "3               PlasticatBay                          Julien  \n",
       "4               PlasticatBay                          Julien  \n",
       "...                      ...                             ...  \n",
       "5225  Caithness Beach Cleans                         Dorchas  \n",
       "5226  Caithness Beach Cleans                         Dorchas  \n",
       "5227  Caithness Beach Cleans                         Dorchas  \n",
       "5228            PlasticatBay  julien.moreau@plasticatbay.org  \n",
       "5229            PlasticatBay  julien.moreau@plasticatbay.org  \n",
       "\n",
       "[5230 rows x 9 columns]"
      ]
     },
     "execution_count": 16,
     "metadata": {},
     "output_type": "execute_result"
    }
   ],
   "source": [
    "import pandas as pd\n",
    "df=pd.json_normalize(data[2]['data'])\n",
    "df['Weight']=df['Weight'].astype('float')\n",
    "df"
   ]
  },
  {
   "cell_type": "code",
   "execution_count": 17,
   "metadata": {
    "tags": []
   },
   "outputs": [
    {
     "data": {
      "text/html": [
       "<div>\n",
       "<style scoped>\n",
       "    .dataframe tbody tr th:only-of-type {\n",
       "        vertical-align: middle;\n",
       "    }\n",
       "\n",
       "    .dataframe tbody tr th {\n",
       "        vertical-align: top;\n",
       "    }\n",
       "\n",
       "    .dataframe thead th {\n",
       "        text-align: right;\n",
       "    }\n",
       "</style>\n",
       "<table border=\"1\" class=\"dataframe\">\n",
       "  <thead>\n",
       "    <tr style=\"text-align: right;\">\n",
       "      <th></th>\n",
       "      <th>Beach</th>\n",
       "      <th>Lat</th>\n",
       "      <th>Longit</th>\n",
       "      <th>Weight</th>\n",
       "    </tr>\n",
       "  </thead>\n",
       "  <tbody>\n",
       "    <tr>\n",
       "      <th>0</th>\n",
       "      <td>Aberdaron</td>\n",
       "      <td>52.7879</td>\n",
       "      <td>-4.72866</td>\n",
       "      <td>67.00</td>\n",
       "    </tr>\n",
       "    <tr>\n",
       "      <th>1</th>\n",
       "      <td>Aberdeen</td>\n",
       "      <td>57.1529</td>\n",
       "      <td>-2.07748</td>\n",
       "      <td>288.90</td>\n",
       "    </tr>\n",
       "    <tr>\n",
       "      <th>2</th>\n",
       "      <td>Aberdovey</td>\n",
       "      <td>52.5415</td>\n",
       "      <td>-4.05465</td>\n",
       "      <td>24.00</td>\n",
       "    </tr>\n",
       "    <tr>\n",
       "      <th>3</th>\n",
       "      <td>Aberystwyth</td>\n",
       "      <td>52.4173</td>\n",
       "      <td>-4.08485</td>\n",
       "      <td>33.00</td>\n",
       "    </tr>\n",
       "    <tr>\n",
       "      <th>4</th>\n",
       "      <td>Aberyswyth</td>\n",
       "      <td>52.4173</td>\n",
       "      <td>-4.08485</td>\n",
       "      <td>2.50</td>\n",
       "    </tr>\n",
       "    <tr>\n",
       "      <th>...</th>\n",
       "      <td>...</td>\n",
       "      <td>...</td>\n",
       "      <td>...</td>\n",
       "      <td>...</td>\n",
       "    </tr>\n",
       "    <tr>\n",
       "      <th>557</th>\n",
       "      <td>Wyre Beach</td>\n",
       "      <td>53.9214</td>\n",
       "      <td>-3.00371</td>\n",
       "      <td>77.00</td>\n",
       "    </tr>\n",
       "    <tr>\n",
       "      <th>558</th>\n",
       "      <td>Wyre Estuary</td>\n",
       "      <td>53.9286</td>\n",
       "      <td>-3.00395</td>\n",
       "      <td>82.00</td>\n",
       "    </tr>\n",
       "    <tr>\n",
       "      <th>559</th>\n",
       "      <td>Yaverland</td>\n",
       "      <td>50.6617</td>\n",
       "      <td>-1.13394</td>\n",
       "      <td>61.00</td>\n",
       "    </tr>\n",
       "    <tr>\n",
       "      <th>560</th>\n",
       "      <td>castletown</td>\n",
       "      <td>58.5944</td>\n",
       "      <td>-3.37281</td>\n",
       "      <td>8.80</td>\n",
       "    </tr>\n",
       "    <tr>\n",
       "      <th>561</th>\n",
       "      <td>duinn</td>\n",
       "      <td>0</td>\n",
       "      <td>0</td>\n",
       "      <td>31.61</td>\n",
       "    </tr>\n",
       "  </tbody>\n",
       "</table>\n",
       "<p>562 rows × 4 columns</p>\n",
       "</div>"
      ],
      "text/plain": [
       "            Beach      Lat    Longit  Weight\n",
       "0      Aberdaron   52.7879  -4.72866   67.00\n",
       "1        Aberdeen  57.1529  -2.07748  288.90\n",
       "2       Aberdovey  52.5415  -4.05465   24.00\n",
       "3     Aberystwyth  52.4173  -4.08485   33.00\n",
       "4      Aberyswyth  52.4173  -4.08485    2.50\n",
       "..            ...      ...       ...     ...\n",
       "557    Wyre Beach  53.9214  -3.00371   77.00\n",
       "558  Wyre Estuary  53.9286  -3.00395   82.00\n",
       "559     Yaverland  50.6617  -1.13394   61.00\n",
       "560    castletown  58.5944  -3.37281    8.80\n",
       "561         duinn        0         0   31.61\n",
       "\n",
       "[562 rows x 4 columns]"
      ]
     },
     "execution_count": 17,
     "metadata": {},
     "output_type": "execute_result"
    }
   ],
   "source": [
    "grouped = df.groupby(['Beach', 'Lat', 'Longit'])[['Weight']].agg('sum').reset_index()\n",
    "grouped"
   ]
  },
  {
   "cell_type": "code",
   "execution_count": 40,
   "metadata": {
    "jupyter": {
     "source_hidden": true
    },
    "tags": []
   },
   "outputs": [
    {
     "data": {
      "application/vnd.plotly.v1+json": {
       "config": {
        "plotlyServerURL": "https://plot.ly"
       },
       "data": [
        {
         "hovertemplate": "<b>%{text}</b><br><br>Weight: %{marker.size:.2f}<br>",
         "lat": [
          "52.7879",
          "57.1529",
          "52.5415",
          "52.4173",
          "52.4173",
          "51.6676",
          "51.6705",
          "58.2876",
          "58.549",
          "58.4737",
          "53.0543",
          "56.5299",
          "52.1527",
          "49.7214",
          "51.7313",
          "51.7313",
          "55.5141",
          "53.3172",
          "53.3172",
          "58.4976",
          "55.6483",
          "56.9092",
          "58.5523",
          "58.5618",
          "57.8395",
          "57.8415",
          "50.7324",
          "51.4547",
          "51.5103",
          "58.0312",
          "50.7106",
          "58.2161",
          "56.4667",
          "56.4592",
          "56.4764",
          "56.5225",
          "54.6673",
          "54.3018",
          "58.5802",
          "58.5762",
          "58.5804",
          "57.6048",
          "52.7192",
          "51.4762",
          "51.4809",
          "58.5992",
          "55.5395",
          "53.2619",
          "50.6961",
          "56.0034",
          "50.6896",
          "57.4069",
          "57.4453",
          "51.5386",
          "53.321",
          "58.1825",
          "55.7654",
          "55.7648",
          "58.5262",
          "50.2813",
          "52.0865",
          "50.545",
          "50.813",
          "53.8151",
          "53.8162",
          "53.7909",
          "53.7909",
          "50.7836",
          "50.5391",
          "52.4897",
          "50.7155",
          "50.5925",
          "50.3358",
          "50.7592",
          "50.7592",
          "52.9748",
          "50.687",
          "50.8198",
          "50.8182",
          "58.7832",
          "51.4547",
          "58.4456",
          "58.011",
          "58.6488",
          "56.4655",
          "57.8467",
          "51.8143",
          "50.8342",
          "50.63",
          "51.61",
          "58.6464",
          "58.638",
          "50.2348",
          "54.7171",
          "50.9329",
          "55.16",
          "57.6507",
          "50.1279",
          "55.6411",
          "50.207",
          "56.5173",
          "58.65",
          "58.65",
          "0",
          "56.954",
          "58.5944",
          "51.7173",
          "50.3312",
          "50.7331",
          "50.6268",
          "50.5771",
          "50.9135",
          "53.1936",
          "50.8092",
          "55.7933",
          "49.9712",
          "51.7883",
          "58.2747",
          "58.6088",
          "58.2259",
          "53.5574",
          "51.4538",
          "53.8867",
          "53.8777",
          "53.2802",
          "58.3044",
          "56.5457",
          "58.5084",
          "55.8932",
          "55.6541",
          "50.6597",
          "50.5351",
          "56.453",
          "50.0803",
          "56.5052",
          "56.4749",
          "50.4065",
          "52.9191",
          "57.6829",
          "52.93",
          "53.4769",
          "56.4912",
          "58.6067",
          "51.3667",
          "51.1286",
          "57.4113",
          "55.0345",
          "50.665",
          "51.7085",
          "55.9877",
          "50.5995",
          "50.5602",
          "51.2225",
          "54.5779",
          "58.9135",
          "54.6484",
          "57.1754",
          "57.8777",
          "51.8004",
          "58.3002",
          "55.0659",
          "56.0066",
          "56.0022",
          "58.2444",
          "58.6454",
          "56.4547",
          "58.6076",
          "55.7833",
          "58.622",
          "55.6348",
          "54.7795",
          "52.9378",
          "57.8792",
          "50.7639",
          "50.7775",
          "50.7845",
          "55.9638",
          "55.6453",
          "50.7181",
          "50.6215",
          "57.2502",
          "55.1606",
          "50.1519",
          "58.5824",
          "58.588",
          "58.5758",
          "58.5319",
          "51.9597",
          "56.4655",
          "55.0096",
          "50.4174",
          "50.1621",
          "51.0735",
          "53.5545",
          "58.6067",
          "58.035",
          "58.5711",
          "51.66",
          "58.5913",
          "51.249",
          "57.7161",
          "55.6217",
          "58.6403",
          "50.2421",
          "50.4232",
          "52.009",
          "52.567",
          "52.5676",
          "56.5131",
          "52.5954",
          "51.7143",
          "58.9423",
          "58.9423",
          "51.0649",
          "56.0406",
          "57.8428",
          "50.0549",
          "0",
          "50.0892",
          "50.2232",
          "50.1442",
          "51.5608",
          "58.6432",
          "50.1664",
          "50.5399",
          "58.6493",
          "54.6798",
          "50.8544",
          "55.4285",
          "50.1986",
          "50.7832",
          "50.103",
          "52.8112",
          "58.1146",
          "49.4785",
          "51.3736",
          "50.816",
          "52.3261",
          "54.269",
          "58.6149",
          "53.296",
          "53.9163",
          "56.5074",
          "50.8235",
          "50.8229",
          "58.6438",
          "52.9415",
          "55.9283",
          "51.2105",
          "55.6141",
          "57.836",
          "50.3899",
          "55.4772",
          "50.3508",
          "49.1963",
          "58.6452",
          "58.5311",
          "55.5952",
          "50.005",
          "58.5515",
          "58.646",
          "51.1793",
          "50.6113",
          "51.0356",
          "0",
          "53.9293",
          "58.5691",
          "58.5267",
          "58.5373",
          "49.2347",
          "57.8728",
          "50.8193",
          "50.8193",
          "51.4406",
          "55.7989",
          "53.9054",
          "58.2703",
          "55.7223",
          "53.4251",
          "51.5402",
          "50.2013",
          "50.7844",
          "50.7844",
          "58.2328",
          "53.2652",
          "50.4233",
          "51.7752",
          "52.9709",
          "51.3964",
          "51.3963",
          "58.4639",
          "51.5072",
          "51.4678",
          "50.1283",
          "55.0277",
          "56.6541",
          "58.2954",
          "50.7577",
          "57.6727",
          "57.8408",
          "50.125",
          "55.1951",
          "55.3798",
          "57.0043",
          "51.4933",
          "50.1233",
          "51.3884",
          "53.9273",
          "54.5983",
          "54.7173",
          "50.4694",
          "56.4982",
          "55.6034",
          "58.5586",
          "50.819",
          "51.7808",
          "58.6493",
          "58.5523",
          "51.2109",
          "51.6979",
          "54.9627",
          "54.7355",
          "56.7125",
          "54.0739",
          "50.3088",
          "58.6041",
          "55.9454",
          "57.5898",
          "50.5339",
          "50.7135",
          "53.4425",
          "54.9679",
          "54.966",
          "54.2125",
          "51.8519",
          "50.4179",
          "55.6038",
          "58.4421",
          "56.0592",
          "55.0076",
          "57.5622",
          "51.0564",
          "52.9732",
          "58.5558",
          "51.4664",
          "51.4664",
          "50.8375",
          "58.4233",
          "58.4778",
          "57.8522",
          "0",
          "54.9751",
          "50.806",
          "50.4401",
          "55.6507",
          "58.6275",
          "51.6761",
          "51.4363",
          "51.7376",
          "50.1657",
          "50.2894",
          "50.1121",
          "50.3607",
          "50.1123",
          "51.3487",
          "42.672",
          "44.7983",
          "50.364",
          "50.3635",
          "58.0521",
          "50.4018",
          "50.5761",
          "50.7118",
          "57.7675",
          "51.2195",
          "56.504",
          "58.0985",
          "52.8076",
          "50.51",
          "50.0798",
          "50.2893",
          "55.9552",
          "50.2617",
          "57.4105",
          "55.2058",
          "58.5705",
          "50.8208",
          "50.1023",
          "53.3415",
          "53.752",
          "53.7605",
          "58.5631",
          "55.9937",
          "50.2137",
          "53.648",
          "0",
          "58.6516",
          "51.3805",
          "58.4998",
          "53.2262",
          "53.3261",
          "53.3261",
          "52.0465",
          "53.2443",
          "52.0871",
          "51.77",
          "51.2221",
          "53.8353",
          "52.4515",
          "53.8779",
          "54.547",
          "52.937",
          "51.4883",
          "54.4364",
          "50.3602",
          "53.9232",
          "50.8016",
          "58.2987",
          "51.3857",
          "56.1868",
          "50.2286",
          "57.8552",
          "54.5921",
          "50.8002",
          "50.7229",
          "51.3782",
          "54.4993",
          "58.5635",
          "58.2041",
          "58.5399",
          "50.2064",
          "50.609",
          "58.6441",
          "58.3731",
          "58.3733",
          "51.1082",
          "51.1082",
          "57.8741",
          "54.2884",
          "54.2884",
          "58.6516",
          "57.3148",
          "58.6508",
          "58.3423",
          "58.3508",
          "58.6046",
          "51.4847",
          "52.7905",
          "50.772",
          "55.5741",
          "54.3931",
          "50.7032",
          "50.722",
          "58.5547",
          "57.8698",
          "58.4597",
          "55.5534",
          "50.079",
          "56.0214",
          "51.5643",
          "50.6309",
          "52.8203",
          "58.2975",
          "50.8264",
          "50.6772",
          "50.6772",
          "53.1413",
          "58.541",
          "53.961",
          "58.5957",
          "50.7919",
          "58.6373",
          "55.0051",
          "51.5332",
          "51.5326",
          "50.7785",
          "51.7517",
          "56.3481",
          "54.4874",
          "55.5733",
          "56.7627",
          "51.8951",
          "54.5793",
          "58.4564",
          "58.2377",
          "50.7833",
          "56.9647",
          "55.6927",
          "58.5662",
          "50.6536",
          "52.1872",
          "50.1405",
          "51.6125",
          "58.5306",
          "51.6751",
          "56.4169",
          "58.205",
          "54.8147",
          "50.4088",
          "51.6186",
          "51.5282",
          "58.5971",
          "58.5996",
          "58.5996",
          "53.3374",
          "53.3374",
          "51.052",
          "58.5255",
          "56.4695",
          "50.2673",
          "50.5463",
          "50.5264",
          "58.4287",
          "56.4897",
          "51.3877",
          "55.606",
          "51.3861",
          "51.476",
          "55.0267",
          "52.5878",
          "57.8822",
          "57.8929",
          "57.908",
          "51.4074",
          "56.5273",
          "50.2331",
          "51.2007",
          "54.1044",
          "53.3864",
          "50.4429",
          "50.4429",
          "53.3727",
          "50.7737",
          "50.8894",
          "51.3466",
          "51.0567",
          "51.0567",
          "58.3454",
          "50.3211",
          "50.4286",
          "54.4925",
          "54.5518",
          "58.5651",
          "51.8956",
          "55.0479",
          "51.3595",
          "58.4373",
          "50.79",
          "53.5415",
          "51.2113",
          "51.5474",
          "54.3755",
          "51.4854",
          "53.4105",
          "53.7284",
          "50.6213",
          "50.8086",
          "53.9214",
          "53.9286",
          "50.6617",
          "58.5944",
          "0"
         ],
         "lon": [
          "-4.72866",
          "-2.07748",
          "-4.05465",
          "-4.08485",
          "-4.08485",
          "-1.28181",
          "-1.26919",
          "-3.31341",
          "-4.45189",
          "-3.10441",
          "-4.08765",
          "-6.91114",
          "1.6032",
          "-2.1969",
          "-4.65677",
          "-4.65677",
          "-2.59804",
          "-4.63484",
          "-4.63484",
          "-4.66321",
          "-4.81559",
          "-5.84737",
          "-4.07617",
          "-3.07532",
          "-5.59732",
          "-5.59398",
          "-1.72898",
          "-2.62792",
          "-2.71229",
          "-5.3707",
          "-1.97266",
          "-5.3658",
          "-6.89517",
          "-6.95229",
          "-6.89258",
          "-6.95203",
          "-5.6426",
          "-5.55323",
          "-4.76575",
          "-4.79588",
          "-4.76584",
          "-7.52224",
          "-4.0566",
          "-0.176005",
          "-0.173376",
          "-3.3899",
          "-1.63208",
          "-4.09591",
          "-3.09104",
          "-2.55395",
          "-1.073",
          "-3.19118",
          "-7.24475",
          "0.582413",
          "-4.21541",
          "-3.49532",
          "-2.0025",
          "-1.98419",
          "-4.23391",
          "-3.89472",
          "-0.268754",
          "-3.54397",
          "-0.108904",
          "-3.05613",
          "-3.05672",
          "-3.05888",
          "-3.05888",
          "-0.659853",
          "-5.02806",
          "-4.0519",
          "-1.87588",
          "-3.67679",
          "-4.1224",
          "-0.856789",
          "-0.856789",
          "0.636043",
          "-3.12095",
          "-0.143097",
          "-0.135493",
          "-3.23467",
          "-2.58864",
          "-3.06368",
          "-3.84338",
          "-3.34607",
          "-2.86092",
          "-5.59976",
          "-0.808258",
          "-4.55729",
          "-3.31317",
          "-4.97543",
          "-3.29019",
          "-3.16139",
          "-4.84185",
          "-4.52298",
          "0.794714",
          "-1.52329",
          "-6.40585",
          "-5.70933",
          "-3.11425",
          "-4.93777",
          "-6.97284",
          "-3.22564",
          "-3.22564",
          "0",
          "-7.48559",
          "-3.37281",
          "-4.39777",
          "-4.75486",
          "-2.89971",
          "-2.56363",
          "-2.47213",
          "-1.37252",
          "-2.89488",
          "-0.796424",
          "-2.21724",
          "-5.1875",
          "1.1579",
          "-3.36814",
          "-3.45074",
          "-5.3108",
          "-0.022933",
          "-2.87065",
          "-3.04868",
          "-2.41118",
          "-1.26109",
          "-3.23155",
          "-6.7443",
          "-4.38743",
          "-2.13215",
          "-2.2427",
          "-1.47328",
          "-5.02744",
          "-6.94061",
          "-5.31313",
          "-6.98948",
          "-5.71194",
          "-5.12",
          "-4.22934",
          "-4.0327",
          "1.31087",
          "-3.04536",
          "-6.86475",
          "-3.67259",
          "-0.804267",
          "-4.24063",
          "-1.85283",
          "-1.43102",
          "-1.10516",
          "-5.16808",
          "-3.32904",
          "-3.4393",
          "-4.92698",
          "1.40517",
          "-3.14029",
          "-2.78458",
          "-8.11823",
          "-2.07617",
          "-4.01326",
          "-5.10531",
          "-5.13716",
          "-3.61133",
          "-2.52706",
          "-2.51108",
          "-3.42778",
          "-3.03096",
          "-2.97507",
          "-3.35108",
          "-2.35371",
          "-3.36612",
          "-2.68041",
          "-1.35412",
          "1.2736",
          "-4.0149",
          "-0.870888",
          "0.308229",
          "-1.04597",
          "-3.12705",
          "-3.1594",
          "-3.53029",
          "-3.4185",
          "-6.25903",
          "-8.11298",
          "-5.06416",
          "-4.75188",
          "-4.7633",
          "-4.74473",
          "-4.2106",
          "1.35152",
          "-2.86124",
          "-1.4326",
          "-5.10135",
          "-5.06032",
          "1.17038",
          "-3.10414",
          "-3.67247",
          "-5.41836",
          "-3.79371",
          "-5.06499",
          "-3.07231",
          "-2.31799",
          "-5.68664",
          "-2.81608",
          "-3.16562",
          "-5.39974",
          "-3.5589",
          "-4.98683",
          "1.73327",
          "1.73319",
          "-6.81438",
          "1.73791",
          "-0.045236",
          "-3.02142",
          "-3.02142",
          "-4.21361",
          "-2.83922",
          "-5.60059",
          "-5.27873",
          "0",
          "-5.68892",
          "-5.39867",
          "-5.06796",
          "-0.04301",
          "-3.31083",
          "-5.09922",
          "-4.99475",
          "-3.23747",
          "-1.19657",
          "0.582404",
          "-2.78159",
          "-5.4404",
          "-0.981378",
          "-5.13869",
          "-4.55581",
          "-3.64622",
          "-2.44796",
          "1.12216",
          "-1.23331",
          "-0.195143",
          "-0.391181",
          "-3.53896",
          "-3.2029",
          "-0.161414",
          "-6.98163",
          "-0.168217",
          "-0.164912",
          "-3.10858",
          "0.486268",
          "8.14701",
          "-4.11263",
          "-3.05439",
          "-5.58209",
          "-3.92007",
          "-2.55121",
          "-4.12278",
          "-2.14585",
          "-3.0559",
          "-3.11987",
          "-2.42868",
          "-5.16257",
          "-4.77859",
          "-3.32111",
          "-3.21783",
          "-2.13099",
          "-0.549505",
          "0",
          "-2.99524",
          "-4.80072",
          "-4.81157",
          "-4.78752",
          "-2.24019",
          "-5.53953",
          "-0.3263",
          "-0.3263",
          "-2.74517",
          "-4.87017",
          "-3.05067",
          "-3.383",
          "-2.75673",
          "-3.09384",
          "0.643357",
          "-5.42643",
          "-1.35653",
          "-1.3558",
          "-6.35875",
          "-0.653589",
          "-5.09791",
          "-5.10974",
          "-3.16965",
          "-3.50087",
          "-3.50166",
          "-5.0583",
          "-0.119553",
          "-0.212417",
          "-5.50182",
          "-1.42599",
          "-2.50103",
          "-3.29137",
          "-1.52958",
          "-2.49306",
          "-5.60044",
          "-5.09212",
          "-6.96373",
          "-7.36506",
          "-5.82377",
          "-2.51528",
          "-5.47715",
          "1.37818",
          "-3.01903",
          "-1.01677",
          "-3.50134",
          "-5.03864",
          "-6.97904",
          "-2.72068",
          "-3.91286",
          "-1.24553",
          "0.965024",
          "-3.23821",
          "-4.44282",
          "-3.46259",
          "-4.67983",
          "-1.53786",
          "-4.5545",
          "-2.4473",
          "-2.86566",
          "-3.95238",
          "-3.4344",
          "-3.0703",
          "-3.86976",
          "-3.49996",
          "-1.10537",
          "-3.05087",
          "-3.28959",
          "-1.61053",
          "-5.88654",
          "-5.12433",
          "-5.07877",
          "-2.69622",
          "-3.07659",
          "-2.72034",
          "-1.43864",
          "-7.28071",
          "-0.64767",
          "-1.28641",
          "-3.08245",
          "-3.64283",
          "-3.64283",
          "0.478009",
          "-3.08246",
          "-5.09103",
          "-5.61581",
          "0",
          "-1.59087",
          "-0.071338",
          "-3.55733",
          "-3.19586",
          "-3.37388",
          "-4.91104",
          "-3.16546",
          "-4.53333",
          "-5.08321",
          "-4.77986",
          "-5.54086",
          "-5.15317",
          "-5.4427",
          "-1.77356",
          "9.44662",
          "-1.2315",
          "-4.14471",
          "-4.14085",
          "-5.4122",
          "-5.13609",
          "-4.91888",
          "-1.98536",
          "-5.60155",
          "-3.62633",
          "-6.987",
          "-3.68184",
          "-4.55162",
          "-5.02928",
          "-5.31188",
          "-5.24646",
          "-3.11034",
          "-5.29366",
          "-6.19792",
          "-6.64683",
          "-3.93146",
          "-1.09321",
          "-5.38745",
          "-3.41556",
          "-2.69922",
          "-2.74217",
          "-3.8594",
          "-3.42238",
          "-5.47818",
          "-2.31379",
          "0",
          "-3.27705",
          "1.21365",
          "-3.13169",
          "-4.52431",
          "-3.48714",
          "-3.48714",
          "1.34363",
          "-3.10123",
          "-0.269369",
          "-0.199941",
          "-3.7869",
          "-1.08169",
          "-1.90621",
          "-2.41018",
          "-1.7767",
          "-1.15794",
          "-2.64235",
          "-0.528498",
          "-3.58735",
          "-3.04482",
          "-0.054311",
          "-3.27309",
          "-2.37737",
          "-2.81293",
          "-3.77998",
          "-5.62557",
          "-0.994519",
          "-0.0422",
          "-1.11741",
          "-2.98234",
          "-0.658891",
          "-3.78514",
          "-6.3663",
          "-5.06076",
          "-5.41576",
          "-3.36608",
          "-3.04075",
          "-3.11143",
          "-3.11152",
          "-4.2223",
          "-4.2223",
          "-6.70227",
          "-0.397323",
          "-0.397323",
          "-3.27693",
          "-6.10557",
          "-3.17799",
          "-5.1702",
          "-5.17433",
          "-3.54739",
          "-2.65733",
          "1.60315",
          "0.094102",
          "-1.64465",
          "-3.4891",
          "-3.06622",
          "-2.82337",
          "-4.68321",
          "-6.9564",
          "-3.05597",
          "-2.84603",
          "-5.69738",
          "-2.87701",
          "-2.66703",
          "-1.17084",
          "-4.14349",
          "-3.27892",
          "-0.270226",
          "-3.24081",
          "-3.24081",
          "0.349682",
          "-4.30204",
          "-2.02129",
          "-3.05632",
          "-1.21193",
          "-3.03261",
          "-1.4224",
          "0.704135",
          "0.70931",
          "-1.07906",
          "-0.350177",
          "-2.80589",
          "-3.60137",
          "-2.64633",
          "-2.41579",
          "-5.29558",
          "-8.43966",
          "-3.05552",
          "-5.40208",
          "-1.16272",
          "-2.20614",
          "-2.86493",
          "-3.99995",
          "-1.95204",
          "0.970455",
          "-5.07627",
          "-3.94469",
          "-4.43033",
          "-4.70128",
          "-2.80772",
          "-6.30995",
          "-4.09092",
          "-5.10616",
          "-2.60037",
          "0.757716",
          "-3.52035",
          "-3.50907",
          "-3.50907",
          "-3.14274",
          "-3.14274",
          "-4.23659",
          "-4.25246",
          "-6.97142",
          "-4.91754",
          "-4.98002",
          "-5.02455",
          "-3.07032",
          "-6.97599",
          "-0.503766",
          "-2.77233",
          "0.600068",
          "-0.872009",
          "-1.42553",
          "-4.10384",
          "-5.55028",
          "-5.16443",
          "-5.181",
          "0.52748",
          "-6.78607",
          "-4.79333",
          "1.40583",
          "-3.24176",
          "-2.6099",
          "-5.0471",
          "-5.0471",
          "-3.18965",
          "-0.905867",
          "-1.38277",
          "-2.99159",
          "-4.23466",
          "-4.23466",
          "-3.16196",
          "-5.20994",
          "-5.05724",
          "-0.615006",
          "-3.59568",
          "-4.59519",
          "-5.29833",
          "-1.44384",
          "1.01867",
          "-3.07969",
          "-4.55875",
          "-2.63924",
          "-4.12237",
          "-0.236517",
          "-2.93355",
          "-0.613369",
          "-3.14533",
          "0.0221293",
          "-2.19111",
          "-0.373572",
          "-3.00371",
          "-3.00395",
          "-1.13394",
          "-3.37281",
          "0"
         ],
         "marker": {
          "color": "orange",
          "size": [
           67,
           288.9,
           24,
           33,
           2.5,
           5,
           479,
           50.21,
           39.22,
           287.610288,
           63,
           6,
           43.3,
           154,
           56,
           161,
           88,
           41,
           20,
           1000,
           12,
           45,
           466.182228,
           51.55,
           20.7,
           80.7,
           316.34000000000003,
           707,
           168,
           232.44,
           30,
           1552.9099999999999,
           4.4,
           6127.78,
           6150.1,
           51.26,
           21,
           146,
           6394.03,
           48,
           29,
           660,
           65,
           55,
           120,
           315.83,
           50,
           78,
           71,
           28,
           25.6,
           5,
           250,
           21,
           32,
           16.04,
           44,
           32.9,
           5.3977448,
           84,
           41,
           44,
           67,
           445.6,
           119,
           72,
           15.35,
           48,
           3,
           67,
           237.2,
           60,
           32,
           99,
           27,
           167,
           21,
           340,
           51,
           496.5595008,
           1080,
           33.53,
           71.85000000000001,
           137.3257352,
           58,
           20.7,
           22,
           6,
           1.6,
           200,
           1.81,
           783.9503592,
           42,
           18,
           58,
           106,
           24,
           12,
           44.26,
           42,
           23.4,
           115.48492,
           370.09000000000003,
           13.379999999999999,
           274,
           1377.5561816,
           12,
           51,
           300,
           38,
           8.8,
           3066,
           213.2,
           23,
           48,
           38,
           2.9,
           246.8680968,
           890.4063128,
           108.7,
           34.6,
           69,
           109,
           39,
           48,
           72.23707519999999,
           30.4,
           7.61,
           71,
           56,
           157,
           14,
           2000,
           0,
           267.6,
           203,
           135,
           39,
           17,
           240,
           89,
           3739.33,
           559.3662392,
           533,
           42.3,
           21,
           43,
           100,
           16,
           260,
           41.5,
           2041,
           308,
           31,
           78,
           43,
           80,
           9,
           31,
           800,
           66,
           71,
           19,
           447.2785912,
           9.530000000000001,
           28.2,
           9724.5163288,
           61,
           204.1453384,
           72,
           172,
           96,
           110,
           114,
           500,
           67,
           169.9,
           66,
           78.22999999999999,
           80,
           33,
           9,
           2,
           788.5,
           264.2,
           11.75,
           246.3535496,
           186,
           129,
           67,
           427,
           15,
           207,
           233,
           88.009,
           75,
           5.0802304,
           202,
           847.2779248,
           110,
           5,
           44,
           940.0203759999999,
           41,
           90.5,
           150,
           534.9,
           105,
           386.58,
           231.5,
           57,
           10.540000000000001,
           3.16,
           52,
           58,
           20.7,
           156,
           8.12,
           73,
           59,
           29,
           387,
           131.0054776,
           97.7,
           9,
           451.818456,
           120.2,
           142,
           91,
           78,
           89,
           26.3,
           86.8,
           299.37,
           11,
           41.5,
           44,
           40,
           83,
           300,
           620,
           1062,
           82.7,
           93,
           46,
           204.04803040000002,
           103.1,
           64,
           28,
           101,
           20.7,
           19.25,
           41,
           5,
           32,
           710.2420711999999,
           1068.8234896000001,
           38,
           40,
           17.2,
           22.0445712,
           50,
           68,
           16,
           2.27,
           137.5,
           20.5,
           733,
           70.2,
           93,
           20.7,
           148,
           46,
           14,
           27,
           116,
           58.83,
           57,
           118.57,
           63,
           21,
           57,
           3,
           72,
           52,
           25,
           22,
           21,
           15,
           188,
           132.99,
           62,
           85,
           175,
           85,
           80,
           62.1454744,
           80,
           11.1,
           20.7,
           113,
           251.4,
           86.5,
           33,
           68,
           554,
           45.2,
           90,
           72,
           82,
           75,
           660.5,
           522,
           148.2675784,
           32.5,
           101,
           309.57654,
           55.51,
           93.5,
           312,
           200,
           75,
           196,
           4.6,
           39,
           1885.4348464,
           101,
           9.9,
           32,
           84,
           346,
           169.8,
           92,
           63.5,
           96,
           3,
           81,
           38.39,
           120,
           138,
           514,
           36,
           20,
           2.28,
           44,
           1000,
           52,
           11.19,
           403.5,
           20.7,
           4.59,
           55,
           43,
           212,
           103,
           556.1024344,
           89,
           188.12,
           137,
           94,
           135,
           118,
           745,
           61,
           112,
           2,
           8,
           267,
           41,
           16.6,
           29,
           71,
           46,
           0.5,
           60,
           195.3,
           141.68,
           56,
           47,
           44,
           77,
           69,
           152.22,
           18.7,
           101,
           94.75747199999999,
           38,
           81,
           228,
           135,
           198,
           10.345432,
           11.4,
           5,
           107,
           9.98,
           160.4630168,
           52,
           577.4907072,
           22.1,
           143.6,
           61.4,
           54,
           198,
           190,
           3000,
           5,
           30,
           28,
           3106,
           340,
           59,
           57,
           101,
           131,
           212.5,
           146,
           134.5904432,
           84.815,
           21,
           18.5,
           20.7,
           139.35,
           88,
           37,
           70,
           71,
           3110.7712136,
           220,
           1.68,
           62,
           33,
           362.8248112,
           92.10000000000001,
           88.85388,
           177,
           130.8,
           274,
           1303.5,
           37,
           229.717724,
           36.6,
           21.24,
           73.7,
           1612.26,
           2890.5880704,
           84,
           96,
           173,
           78,
           16,
           30.2,
           32.7,
           104.8,
           65,
           113.8241048,
           103,
           362,
           33.2,
           35,
           142,
           59,
           8.3460928,
           1000,
           199,
           26,
           58.4,
           10.83,
           72,
           116.94636000000001,
           5000,
           5.67,
           110,
           3108,
           141.4,
           35,
           78,
           15,
           28,
           39,
           1054.25,
           13.1,
           65.14,
           35.275159200000004,
           19,
           123,
           157.35,
           51,
           139.5142984,
           32,
           40,
           283.35,
           12.4,
           3.52,
           416.2,
           790,
           100,
           5.4,
           20,
           120,
           68,
           1222.1897232000001,
           1050.8422936,
           54.290000000000006,
           100,
           60,
           26,
           13.33,
           124.2,
           13,
           11,
           20,
           0.5,
           208.5,
           85,
           1907,
           49,
           40.25,
           32,
           34,
           20.7,
           102,
           6.25,
           15,
           255.7,
           10,
           92.5,
           72,
           30.5,
           322,
           179,
           116.25,
           75,
           5.5,
           139.34,
           21,
           62,
           22.452804,
           175,
           61,
           102,
           48,
           24.1764536,
           23,
           800,
           127,
           218.135032,
           15,
           80,
           32,
           102,
           73,
           80,
           66,
           4.4,
           300,
           131,
           77,
           82,
           61,
           8.799999999999999,
           31.61
          ],
          "sizemode": "area",
          "sizeref": 10
         },
         "text": [
          "Aberdaron ",
          "Aberdeen",
          "Aberdovey",
          "Aberystwyth",
          "Aberyswyth",
          "Abingdon",
          "Abingdon Lock",
          "Achastle",
          "Achininiver",
          "Ackergill",
          "Afon Colwyn",
          "Aird, Cornaigmore",
          "Aldeburgh",
          "Alderney",
          "Amorth",
          "Amroth",
          "Ancrum",
          "Anglesey",
          "Anglesey ",
          "Ard Neackie",
          "Ardrossan North",
          "Arisaig",
          "Armadale",
          "Aukengill",
          "Aultbea back slab beach",
          "Aultbea shop beach",
          "Avon Beach",
          "Avon Gorge",
          "Avonmouth",
          "Badentarbet",
          "Baiter Bay",
          "Balchladich",
          "Balemartine",
          "Balephuil Bay",
          "Balinoe",
          "Ballevullin",
          "Ballyholme",
          "Ballyhornan",
          "Balnakeil",
          "Balnakeil Bay (Eilean Dubh)",
          "Balnakiel",
          "Balranald",
          "Barmouth",
          "Battersea",
          "Battersea Bridge",
          "Battery",
          "Beadnell Bay",
          "Beaumaris",
          "Beer Beach",
          "Belhaven",
          "Bembridge",
          "Ben Ninnes",
          "Benbecula",
          "Benfleet Creek",
          "Benllech",
          "Berriedale",
          "Berwick",
          "Berwick upon Tweed",
          "Bettyhill",
          "Bigbury",
          "Biggleswade",
          "Bishopsteignton",
          "Black Rock",
          "Blackpool",
          "Blackpool Beach",
          "Blackpool South",
          "Blackpool South Shore",
          "Bognor Regis",
          "Booby's Bay",
          "Borth",
          "Bournemouth",
          "Bovey Tracey",
          "Bovisand",
          "Bracklesham Bay",
          "Bracklesham bay",
          "Brancaster",
          "Branscombe",
          "Brighton",
          "Brighton Beach",
          "Brims",
          "Bristol",
          "Broadhaven",
          "Brora",
          "Brough",
          "Broughty Ferry",
          "Bualnaluib beach",
          "Bucks Canals",
          "Bude",
          "Budleigh Salterton",
          "Bullslaughter Bay",
          "Burn Of Rattar",
          "Burnside",
          "Caerhays",
          "Cairndoon to Claymoddie shore",
          "Camber",
          "Cambois",
          "Camus More",
          "Cape Cornwall",
          "Cardrona",
          "Carne Beach",
          "Carrastaoin (Cavey Beach)",
          "Castle Of Mey",
          "Castle of Mey",
          "Castle sinc gir",
          "Castlebay",
          "Castletown",
          "Cefn Sidan",
          "Charlestown",
          "Charmouth",
          "Chesil",
          "Chesil beach",
          "Chessel Bay",
          "Chester",
          "Chichester Canal",
          "Chirnside",
          "Church Cove",
          "Clacton-on-Sea",
          "Clais Ceathaich",
          "Claredon Haven",
          "Clashnessie",
          "Cleethorpes",
          "Clevedon",
          "Cleveleys",
          "Clitheroe",
          "Clowne",
          "Clyth",
          "Coalas",
          "Coldbackie",
          "Coldingham Bay ",
          "Coldstream",
          "Compton",
          "Constantine",
          "Corr-eileen",
          "Coverack (Porthleven)",
          "Craiginish Point",
          "Craignure",
          "Crantock",
          "Criccieth",
          "Cromarty",
          "Cromer",
          "Crosby",
          "Crossapol - Tiree",
          "Crosskirk",
          "Crowthorne",
          "Croyde",
          "Cruden Bay",
          "Cullercoats",
          "Culver Cliffs",
          "Dale",
          "Dalmeny Estate",
          "Dawlish Warren",
          "Daymer Bay",
          "Deal",
          "Derwent",
          "Dingieshowe (Orkney)",
          "Donegal Town",
          "Donmouth ",
          "Dornoch",
          "Druidstone Haven",
          "Duartbeg",
          "Dumfries",
          "Dunbar",
          "Dunbar East",
          "Dunbeath",
          "Duncansby",
          "Dundee",
          "Dunnet",
          "Duns",
          "Dwarwick",
          "Earlston",
          "Easington",
          "East Runton",
          "East Sutherland",
          "East Wittering",
          "Eastbourne",
          "Eastney",
          "Edinburgh",
          "Eshiels",
          "Exeter Quay",
          "Exmouth",
          "Fairy Pools",
          "Falcarragh",
          "Falmouth",
          "Faraid Head (Aeden)",
          "Faraid Head (Arch Cove)",
          "Faraid Head (Geodah Brat)",
          "Farr Bay",
          "Felixstowe",
          "Ferry Beach",
          "Fish Quay",
          "Fistral",
          "Flushing",
          "Folkestone",
          "Formby",
          "Forss",
          "Fox point (Coigach)",
          "Fresgoe",
          "Freshwater West",
          "Freswick",
          "Frome River",
          "Gairloch Beach",
          "Galashiels",
          "Gills",
          "Godrevy",
          "Goodrington Sands",
          "Goodwick Harbour",
          "Gorleston",
          "Gorlestone",
          "Gott Pier",
          "Great Yarmouth",
          "Greenbank",
          "Greenigeo",
          "Greenigoe",
          "Greysands",
          "Gullane",
          "Gun pits beach",
          "Gunwalloe",
          "Guttery Geo",
          "Gwenver",
          "Gwithian",
          "Gyllyngvase",
          "Hackney",
          "Ham",
          "Harbour Village",
          "Harlyn",
          "Harrow",
          "Hartlepool",
          "Hastings",
          "Hawick",
          "Hayle",
          "Hayling Island",
          "Helford Passage",
          "Hells Mouth",
          "Helmsdale",
          "Herme",
          "Herne Bay",
          "Hillhead",
          "Hinching Brooke",
          "Holbeck Ravine",
          "Holborn Head",
          "Holywell",
          "Hornsea",
          "Hough Bay",
          "Hove",
          "Hove Lawns",
          "Huna",
          "Hunstanton",
          "Hvide Sande",
          "Ilfracombe Harbour",
          "Innerleithen",
          "Isleview beach",
          "Ivybridge",
          "Jedburgh",
          "Jennycliffe",
          "Jersey",
          "John O'Groats",
          "Keiss",
          "Kelso",
          "Kennack Sands",
          "Keoldale",
          "Kerry Geo",
          "Kilve",
          "Kimmeridge",
          "Kirdford",
          "Kirk Geo",
          "Knott End Beach",
          "Kyle of Durness (NE)",
          "Kyle of Durness (Old Grudy)",
          "Kyle of Durness (Sarsgrum)",
          "L'etacq",
          "Laide Jetty",
          "Lancing",
          "Lancing ",
          "Land Yeo",
          "Largs",
          "Larkholme Grasslands",
          "Latheronwheel",
          "Lauder",
          "Leasowe Bay",
          "Leigh on Sea",
          "Lelant",
          "Lepe Bay",
          "Lepe Country Park",
          "Lewis",
          "Lincoln Canal",
          "Little Fistral",
          "Little Haven",
          "Llanollen",
          "Llantwit",
          "Llantwit Major",
          "Loch Clash (Kinlochbervie)",
          "London",
          "London (Putney)",
          "Long Rock",
          "Longsands",
          "Lunan Bay",
          "Lybster",
          "Lymington",
          "Macduff",
          "Maclennan Park Beach",
          "Maenporth",
          "Magilligan Point",
          "Malin Head",
          "Mallaig",
          "Mangotsfield",
          "Marazion",
          "Margate",
          "Marnie Beach",
          "Marske",
          "Maryport",
          "Mawgan Porth",
          "Maze Beach",
          "Melrose",
          "Melvich",
          "Meon Shore",
          "Mersea Island",
          "Mey",
          "Midfield Beach",
          "Minehead",
          "Monkstone",
          "Monkton Burn",
          "Monreith",
          "Montrose",
          "Morecambe",
          "Mothecombe ",
          "Murkle",
          "Musselburgh",
          "Nairn",
          "Ness Cove",
          "Nettlestone and Seaview",
          "New Brighton",
          "Newbie Beach",
          "Newcastle",
          "Newcastle (IR)",
          "Newgale",
          "Newquay",
          "Newstead",
          "North Baths",
          "North Berwick",
          "North Shields",
          "North Uist",
          "Northchapel",
          "Nottingham Canal",
          "Nybster",
          "Ogmore",
          "Ogmore Beach",
          "Old Bathing Station, Bexhill",
          "Old Wick Castle",
          "Oldshoremore",
          "Ormiscaig",
          "Otter Geo",
          "Ouseburn",
          "Ovingdean",
          "Paignton",
          "Peebles",
          "Peedie Sands",
          "Pembroke",
          "Penarth",
          "Pendine Sands",
          "Penryn River",
          "Pentewan",
          "Penzance",
          "Perranporth",
          "Perranuthnoe",
          "Pewsey",
          "Plage de l'Arinella",
          "Plage du Grand Crohot",
          "Plymouth",
          "Plymouth Hoe",
          "Polbain",
          "Polly Joke",
          "Polzeath",
          "Poole Harbour",
          "Poolewe beach",
          "Porlock Weir",
          "Port Hanais, Craiginish Point",
          "Portgower",
          "Porth Neigwl",
          "Porthcothan",
          "Porthleven",
          "Porthtowan",
          "Portobello",
          "Portreath",
          "Portree",
          "Portrush East Strand",
          "Portskerra",
          "Portsmouth",
          "Praa Sands",
          "Prestatyn",
          "Preston",
          "Preston Marina",
          "Puffin Cove",
          "Queensferry",
          "REST/St Ives",
          "Ramsbottom",
          "Ramsigeo",
          "Rattar",
          "Reculver",
          "Reiss",
          "Rhosenigr",
          "Rhyl",
          "Rhyl ",
          "River Deben",
          "River Dee",
          "River Ivel",
          "River Lea",
          "River Lyn, Exmoor",
          "River Ouse",
          "River Rea",
          "River Ribble",
          "River Tees",
          "River Trent",
          "River Trym",
          "Robin Hood's Bay",
          "Rock Park",
          "Rossal Point Observation Tower",
          "Rottingdean",
          "Roy Geo",
          "Royal Victoria Park",
          "Ruby Bay",
          "Salcombe",
          "Salmon Beach",
          "Saltburn",
          "Saltdean",
          "Salterns",
          "Sand Bay",
          "Sandsend ",
          "Sandside",
          "Sandwick Bay",
          "Sandwood Bay",
          "Sandy Acres",
          "Sandy Bay",
          "Sannick",
          "Sarclet",
          "Sarclet Haven",
          "Saunton",
          "Saunton Sands ",
          "Scalpay",
          "Scarborough",
          "Scarborough ",
          "Scarfskerry",
          "Sconser",
          "Scotlands Haven",
          "Scourie (Camas an Tairidh)",
          "Scouriemore (Cana Nam Buch)",
          "Scrabster",
          "Sea Mills",
          "Sea Palling",
          "Seaford",
          "Seahouses",
          "Seascale",
          "Seaton",
          "Seatown",
          "Secret Beach (Durness)",
          "Seilebost",
          "Selkie Beach",
          "Selkirk",
          "Sennen",
          "Seton Sands",
          "Severn Beach",
          "Shanklin",
          "Shell Island",
          "Shelligoe",
          "Shoreham",
          "Sidmouth",
          "Sidmouth ",
          "Skegness",
          "Skerray",
          "Skipton",
          "Skirza",
          "Solent",
          "South Duncansby Head",
          "South Shields",
          "Southend",
          "Southend-on-Sea",
          "Southsea",
          "St Albans",
          "St Andrews",
          "St Bees",
          "St Boswells",
          "St Cyrus",
          "St Davids",
          "St John's Point",
          "Staxigoe",
          "Stoer Beach",
          "Stokes Bay",
          "Stonehaven",
          "Stow",
          "Strathy",
          "Studland",
          "Suffolk",
          "Swanpool",
          "Swansea",
          "Talmine Bay",
          "Tenby",
          "Tentsmuir",
          "The Braighe",
          "The Dhoon",
          "The Gannel",
          "Thornbury",
          "Thorpe Bay",
          "Thurso",
          "Thurso East",
          "Thurso east",
          "Thurstason",
          "Thurstaston",
          "Torridge",
          "Torrisdale Bay",
          "Traigh nan Gilean",
          "Tregony",
          "Trevone",
          "Treyarnon",
          "Trinkie",
          "Tràigh Ghrianal (Cean a Mhara)",
          "Tulk Field, Chertsey",
          "Tweedbank",
          "Twydall",
          "Twyford",
          "Tynemouth",
          "Tywyn",
          "Udrigle Beach",
          "Ullapool",
          "Ullapool (Luib na Mòr-choille)",
          "Upnor",
          "Vaul",
          "Vault Beach",
          "Walmer Castle",
          "Walney Island",
          "Warrington",
          "Watergate",
          "Watergate Bay",
          "West Kirby",
          "West Wittering",
          "Weston Shore",
          "Weston Super Mare",
          "Westward Ho",
          "Westward Ho!",
          "Whaligoe",
          "Wheal Kitty",
          "Whipsiddery",
          "Whitby",
          "Whitehaven",
          "Whiten Head",
          "Whitesands",
          "Whitley Bay",
          "Whitstable",
          "Wick",
          "Widemouth",
          "Wigan Canal",
          "Wildersmouth",
          "Willesden",
          "Windermere ",
          "Windsor",
          "Wirral",
          "Withernsea",
          "Worbarrow",
          "Worthing",
          "Wyre Beach",
          "Wyre Estuary",
          "Yaverland",
          "castletown",
          "duinn"
         ],
         "type": "scattermapbox"
        }
       ],
       "layout": {
        "autosize": true,
        "hovermode": "closest",
        "mapbox": {
         "bearing": 0,
         "center": {
          "lat": 55,
          "lon": -3
         },
         "pitch": 0,
         "style": "stamen-toner",
         "zoom": 4
        },
        "template": {
         "data": {
          "bar": [
           {
            "error_x": {
             "color": "#2a3f5f"
            },
            "error_y": {
             "color": "#2a3f5f"
            },
            "marker": {
             "line": {
              "color": "#E5ECF6",
              "width": 0.5
             },
             "pattern": {
              "fillmode": "overlay",
              "size": 10,
              "solidity": 0.2
             }
            },
            "type": "bar"
           }
          ],
          "barpolar": [
           {
            "marker": {
             "line": {
              "color": "#E5ECF6",
              "width": 0.5
             },
             "pattern": {
              "fillmode": "overlay",
              "size": 10,
              "solidity": 0.2
             }
            },
            "type": "barpolar"
           }
          ],
          "carpet": [
           {
            "aaxis": {
             "endlinecolor": "#2a3f5f",
             "gridcolor": "white",
             "linecolor": "white",
             "minorgridcolor": "white",
             "startlinecolor": "#2a3f5f"
            },
            "baxis": {
             "endlinecolor": "#2a3f5f",
             "gridcolor": "white",
             "linecolor": "white",
             "minorgridcolor": "white",
             "startlinecolor": "#2a3f5f"
            },
            "type": "carpet"
           }
          ],
          "choropleth": [
           {
            "colorbar": {
             "outlinewidth": 0,
             "ticks": ""
            },
            "type": "choropleth"
           }
          ],
          "contour": [
           {
            "colorbar": {
             "outlinewidth": 0,
             "ticks": ""
            },
            "colorscale": [
             [
              0,
              "#0d0887"
             ],
             [
              0.1111111111111111,
              "#46039f"
             ],
             [
              0.2222222222222222,
              "#7201a8"
             ],
             [
              0.3333333333333333,
              "#9c179e"
             ],
             [
              0.4444444444444444,
              "#bd3786"
             ],
             [
              0.5555555555555556,
              "#d8576b"
             ],
             [
              0.6666666666666666,
              "#ed7953"
             ],
             [
              0.7777777777777778,
              "#fb9f3a"
             ],
             [
              0.8888888888888888,
              "#fdca26"
             ],
             [
              1,
              "#f0f921"
             ]
            ],
            "type": "contour"
           }
          ],
          "contourcarpet": [
           {
            "colorbar": {
             "outlinewidth": 0,
             "ticks": ""
            },
            "type": "contourcarpet"
           }
          ],
          "heatmap": [
           {
            "colorbar": {
             "outlinewidth": 0,
             "ticks": ""
            },
            "colorscale": [
             [
              0,
              "#0d0887"
             ],
             [
              0.1111111111111111,
              "#46039f"
             ],
             [
              0.2222222222222222,
              "#7201a8"
             ],
             [
              0.3333333333333333,
              "#9c179e"
             ],
             [
              0.4444444444444444,
              "#bd3786"
             ],
             [
              0.5555555555555556,
              "#d8576b"
             ],
             [
              0.6666666666666666,
              "#ed7953"
             ],
             [
              0.7777777777777778,
              "#fb9f3a"
             ],
             [
              0.8888888888888888,
              "#fdca26"
             ],
             [
              1,
              "#f0f921"
             ]
            ],
            "type": "heatmap"
           }
          ],
          "heatmapgl": [
           {
            "colorbar": {
             "outlinewidth": 0,
             "ticks": ""
            },
            "colorscale": [
             [
              0,
              "#0d0887"
             ],
             [
              0.1111111111111111,
              "#46039f"
             ],
             [
              0.2222222222222222,
              "#7201a8"
             ],
             [
              0.3333333333333333,
              "#9c179e"
             ],
             [
              0.4444444444444444,
              "#bd3786"
             ],
             [
              0.5555555555555556,
              "#d8576b"
             ],
             [
              0.6666666666666666,
              "#ed7953"
             ],
             [
              0.7777777777777778,
              "#fb9f3a"
             ],
             [
              0.8888888888888888,
              "#fdca26"
             ],
             [
              1,
              "#f0f921"
             ]
            ],
            "type": "heatmapgl"
           }
          ],
          "histogram": [
           {
            "marker": {
             "pattern": {
              "fillmode": "overlay",
              "size": 10,
              "solidity": 0.2
             }
            },
            "type": "histogram"
           }
          ],
          "histogram2d": [
           {
            "colorbar": {
             "outlinewidth": 0,
             "ticks": ""
            },
            "colorscale": [
             [
              0,
              "#0d0887"
             ],
             [
              0.1111111111111111,
              "#46039f"
             ],
             [
              0.2222222222222222,
              "#7201a8"
             ],
             [
              0.3333333333333333,
              "#9c179e"
             ],
             [
              0.4444444444444444,
              "#bd3786"
             ],
             [
              0.5555555555555556,
              "#d8576b"
             ],
             [
              0.6666666666666666,
              "#ed7953"
             ],
             [
              0.7777777777777778,
              "#fb9f3a"
             ],
             [
              0.8888888888888888,
              "#fdca26"
             ],
             [
              1,
              "#f0f921"
             ]
            ],
            "type": "histogram2d"
           }
          ],
          "histogram2dcontour": [
           {
            "colorbar": {
             "outlinewidth": 0,
             "ticks": ""
            },
            "colorscale": [
             [
              0,
              "#0d0887"
             ],
             [
              0.1111111111111111,
              "#46039f"
             ],
             [
              0.2222222222222222,
              "#7201a8"
             ],
             [
              0.3333333333333333,
              "#9c179e"
             ],
             [
              0.4444444444444444,
              "#bd3786"
             ],
             [
              0.5555555555555556,
              "#d8576b"
             ],
             [
              0.6666666666666666,
              "#ed7953"
             ],
             [
              0.7777777777777778,
              "#fb9f3a"
             ],
             [
              0.8888888888888888,
              "#fdca26"
             ],
             [
              1,
              "#f0f921"
             ]
            ],
            "type": "histogram2dcontour"
           }
          ],
          "mesh3d": [
           {
            "colorbar": {
             "outlinewidth": 0,
             "ticks": ""
            },
            "type": "mesh3d"
           }
          ],
          "parcoords": [
           {
            "line": {
             "colorbar": {
              "outlinewidth": 0,
              "ticks": ""
             }
            },
            "type": "parcoords"
           }
          ],
          "pie": [
           {
            "automargin": true,
            "type": "pie"
           }
          ],
          "scatter": [
           {
            "marker": {
             "colorbar": {
              "outlinewidth": 0,
              "ticks": ""
             }
            },
            "type": "scatter"
           }
          ],
          "scatter3d": [
           {
            "line": {
             "colorbar": {
              "outlinewidth": 0,
              "ticks": ""
             }
            },
            "marker": {
             "colorbar": {
              "outlinewidth": 0,
              "ticks": ""
             }
            },
            "type": "scatter3d"
           }
          ],
          "scattercarpet": [
           {
            "marker": {
             "colorbar": {
              "outlinewidth": 0,
              "ticks": ""
             }
            },
            "type": "scattercarpet"
           }
          ],
          "scattergeo": [
           {
            "marker": {
             "colorbar": {
              "outlinewidth": 0,
              "ticks": ""
             }
            },
            "type": "scattergeo"
           }
          ],
          "scattergl": [
           {
            "marker": {
             "colorbar": {
              "outlinewidth": 0,
              "ticks": ""
             }
            },
            "type": "scattergl"
           }
          ],
          "scattermapbox": [
           {
            "marker": {
             "colorbar": {
              "outlinewidth": 0,
              "ticks": ""
             }
            },
            "type": "scattermapbox"
           }
          ],
          "scatterpolar": [
           {
            "marker": {
             "colorbar": {
              "outlinewidth": 0,
              "ticks": ""
             }
            },
            "type": "scatterpolar"
           }
          ],
          "scatterpolargl": [
           {
            "marker": {
             "colorbar": {
              "outlinewidth": 0,
              "ticks": ""
             }
            },
            "type": "scatterpolargl"
           }
          ],
          "scatterternary": [
           {
            "marker": {
             "colorbar": {
              "outlinewidth": 0,
              "ticks": ""
             }
            },
            "type": "scatterternary"
           }
          ],
          "surface": [
           {
            "colorbar": {
             "outlinewidth": 0,
             "ticks": ""
            },
            "colorscale": [
             [
              0,
              "#0d0887"
             ],
             [
              0.1111111111111111,
              "#46039f"
             ],
             [
              0.2222222222222222,
              "#7201a8"
             ],
             [
              0.3333333333333333,
              "#9c179e"
             ],
             [
              0.4444444444444444,
              "#bd3786"
             ],
             [
              0.5555555555555556,
              "#d8576b"
             ],
             [
              0.6666666666666666,
              "#ed7953"
             ],
             [
              0.7777777777777778,
              "#fb9f3a"
             ],
             [
              0.8888888888888888,
              "#fdca26"
             ],
             [
              1,
              "#f0f921"
             ]
            ],
            "type": "surface"
           }
          ],
          "table": [
           {
            "cells": {
             "fill": {
              "color": "#EBF0F8"
             },
             "line": {
              "color": "white"
             }
            },
            "header": {
             "fill": {
              "color": "#C8D4E3"
             },
             "line": {
              "color": "white"
             }
            },
            "type": "table"
           }
          ]
         },
         "layout": {
          "annotationdefaults": {
           "arrowcolor": "#2a3f5f",
           "arrowhead": 0,
           "arrowwidth": 1
          },
          "autotypenumbers": "strict",
          "coloraxis": {
           "colorbar": {
            "outlinewidth": 0,
            "ticks": ""
           }
          },
          "colorscale": {
           "diverging": [
            [
             0,
             "#8e0152"
            ],
            [
             0.1,
             "#c51b7d"
            ],
            [
             0.2,
             "#de77ae"
            ],
            [
             0.3,
             "#f1b6da"
            ],
            [
             0.4,
             "#fde0ef"
            ],
            [
             0.5,
             "#f7f7f7"
            ],
            [
             0.6,
             "#e6f5d0"
            ],
            [
             0.7,
             "#b8e186"
            ],
            [
             0.8,
             "#7fbc41"
            ],
            [
             0.9,
             "#4d9221"
            ],
            [
             1,
             "#276419"
            ]
           ],
           "sequential": [
            [
             0,
             "#0d0887"
            ],
            [
             0.1111111111111111,
             "#46039f"
            ],
            [
             0.2222222222222222,
             "#7201a8"
            ],
            [
             0.3333333333333333,
             "#9c179e"
            ],
            [
             0.4444444444444444,
             "#bd3786"
            ],
            [
             0.5555555555555556,
             "#d8576b"
            ],
            [
             0.6666666666666666,
             "#ed7953"
            ],
            [
             0.7777777777777778,
             "#fb9f3a"
            ],
            [
             0.8888888888888888,
             "#fdca26"
            ],
            [
             1,
             "#f0f921"
            ]
           ],
           "sequentialminus": [
            [
             0,
             "#0d0887"
            ],
            [
             0.1111111111111111,
             "#46039f"
            ],
            [
             0.2222222222222222,
             "#7201a8"
            ],
            [
             0.3333333333333333,
             "#9c179e"
            ],
            [
             0.4444444444444444,
             "#bd3786"
            ],
            [
             0.5555555555555556,
             "#d8576b"
            ],
            [
             0.6666666666666666,
             "#ed7953"
            ],
            [
             0.7777777777777778,
             "#fb9f3a"
            ],
            [
             0.8888888888888888,
             "#fdca26"
            ],
            [
             1,
             "#f0f921"
            ]
           ]
          },
          "colorway": [
           "#636efa",
           "#EF553B",
           "#00cc96",
           "#ab63fa",
           "#FFA15A",
           "#19d3f3",
           "#FF6692",
           "#B6E880",
           "#FF97FF",
           "#FECB52"
          ],
          "font": {
           "color": "#2a3f5f"
          },
          "geo": {
           "bgcolor": "white",
           "lakecolor": "white",
           "landcolor": "#E5ECF6",
           "showlakes": true,
           "showland": true,
           "subunitcolor": "white"
          },
          "hoverlabel": {
           "align": "left"
          },
          "hovermode": "closest",
          "mapbox": {
           "style": "light"
          },
          "paper_bgcolor": "white",
          "plot_bgcolor": "#E5ECF6",
          "polar": {
           "angularaxis": {
            "gridcolor": "white",
            "linecolor": "white",
            "ticks": ""
           },
           "bgcolor": "#E5ECF6",
           "radialaxis": {
            "gridcolor": "white",
            "linecolor": "white",
            "ticks": ""
           }
          },
          "scene": {
           "xaxis": {
            "backgroundcolor": "#E5ECF6",
            "gridcolor": "white",
            "gridwidth": 2,
            "linecolor": "white",
            "showbackground": true,
            "ticks": "",
            "zerolinecolor": "white"
           },
           "yaxis": {
            "backgroundcolor": "#E5ECF6",
            "gridcolor": "white",
            "gridwidth": 2,
            "linecolor": "white",
            "showbackground": true,
            "ticks": "",
            "zerolinecolor": "white"
           },
           "zaxis": {
            "backgroundcolor": "#E5ECF6",
            "gridcolor": "white",
            "gridwidth": 2,
            "linecolor": "white",
            "showbackground": true,
            "ticks": "",
            "zerolinecolor": "white"
           }
          },
          "shapedefaults": {
           "line": {
            "color": "#2a3f5f"
           }
          },
          "ternary": {
           "aaxis": {
            "gridcolor": "white",
            "linecolor": "white",
            "ticks": ""
           },
           "baxis": {
            "gridcolor": "white",
            "linecolor": "white",
            "ticks": ""
           },
           "bgcolor": "#E5ECF6",
           "caxis": {
            "gridcolor": "white",
            "linecolor": "white",
            "ticks": ""
           }
          },
          "title": {
           "x": 0.05
          },
          "xaxis": {
           "automargin": true,
           "gridcolor": "white",
           "linecolor": "white",
           "ticks": "",
           "title": {
            "standoff": 15
           },
           "zerolinecolor": "white",
           "zerolinewidth": 2
          },
          "yaxis": {
           "automargin": true,
           "gridcolor": "white",
           "linecolor": "white",
           "ticks": "",
           "title": {
            "standoff": 15
           },
           "zerolinecolor": "white",
           "zerolinewidth": 2
          }
         }
        }
       }
      },
      "image/png": "[encoded data removed]",
      "text/html": [
       "<div>                            <div id=\"cb5df9f8-737f-4445-8cf6-2b70afb7d19c\" class=\"plotly-graph-div\" style=\"height:700px; width:100%;\"></div>            <script type=\"text/javascript\">                require([\"plotly\"], function(Plotly) {                    window.PLOTLYENV=window.PLOTLYENV || {};                                    if (document.getElementById(\"cb5df9f8-737f-4445-8cf6-2b70afb7d19c\")) {                    Plotly.newPlot(                        \"cb5df9f8-737f-4445-8cf6-2b70afb7d19c\",                        [{\"hovertemplate\":\"<b>%{text}</b><br><br>Weight: %{marker.size:.2f}<br>\",\"lat\":[\"52.7879\",\"57.1529\",\"52.5415\",\"52.4173\",\"52.4173\",\"51.6676\",\"51.6705\",\"58.2876\",\"58.549\",\"58.4737\",\"53.0543\",\"56.5299\",\"52.1527\",\"49.7214\",\"51.7313\",\"51.7313\",\"55.5141\",\"53.3172\",\"53.3172\",\"58.4976\",\"55.6483\",\"56.9092\",\"58.5523\",\"58.5618\",\"57.8395\",\"57.8415\",\"50.7324\",\"51.4547\",\"51.5103\",\"58.0312\",\"50.7106\",\"58.2161\",\"56.4667\",\"56.4592\",\"56.4764\",\"56.5225\",\"54.6673\",\"54.3018\",\"58.5802\",\"58.5762\",\"58.5804\",\"57.6048\",\"52.7192\",\"51.4762\",\"51.4809\",\"58.5992\",\"55.5395\",\"53.2619\",\"50.6961\",\"56.0034\",\"50.6896\",\"57.4069\",\"57.4453\",\"51.5386\",\"53.321\",\"58.1825\",\"55.7654\",\"55.7648\",\"58.5262\",\"50.2813\",\"52.0865\",\"50.545\",\"50.813\",\"53.8151\",\"53.8162\",\"53.7909\",\"53.7909\",\"50.7836\",\"50.5391\",\"52.4897\",\"50.7155\",\"50.5925\",\"50.3358\",\"50.7592\",\"50.7592\",\"52.9748\",\"50.687\",\"50.8198\",\"50.8182\",\"58.7832\",\"51.4547\",\"58.4456\",\"58.011\",\"58.6488\",\"56.4655\",\"57.8467\",\"51.8143\",\"50.8342\",\"50.63\",\"51.61\",\"58.6464\",\"58.638\",\"50.2348\",\"54.7171\",\"50.9329\",\"55.16\",\"57.6507\",\"50.1279\",\"55.6411\",\"50.207\",\"56.5173\",\"58.65\",\"58.65\",\"0\",\"56.954\",\"58.5944\",\"51.7173\",\"50.3312\",\"50.7331\",\"50.6268\",\"50.5771\",\"50.9135\",\"53.1936\",\"50.8092\",\"55.7933\",\"49.9712\",\"51.7883\",\"58.2747\",\"58.6088\",\"58.2259\",\"53.5574\",\"51.4538\",\"53.8867\",\"53.8777\",\"53.2802\",\"58.3044\",\"56.5457\",\"58.5084\",\"55.8932\",\"55.6541\",\"50.6597\",\"50.5351\",\"56.453\",\"50.0803\",\"56.5052\",\"56.4749\",\"50.4065\",\"52.9191\",\"57.6829\",\"52.93\",\"53.4769\",\"56.4912\",\"58.6067\",\"51.3667\",\"51.1286\",\"57.4113\",\"55.0345\",\"50.665\",\"51.7085\",\"55.9877\",\"50.5995\",\"50.5602\",\"51.2225\",\"54.5779\",\"58.9135\",\"54.6484\",\"57.1754\",\"57.8777\",\"51.8004\",\"58.3002\",\"55.0659\",\"56.0066\",\"56.0022\",\"58.2444\",\"58.6454\",\"56.4547\",\"58.6076\",\"55.7833\",\"58.622\",\"55.6348\",\"54.7795\",\"52.9378\",\"57.8792\",\"50.7639\",\"50.7775\",\"50.7845\",\"55.9638\",\"55.6453\",\"50.7181\",\"50.6215\",\"57.2502\",\"55.1606\",\"50.1519\",\"58.5824\",\"58.588\",\"58.5758\",\"58.5319\",\"51.9597\",\"56.4655\",\"55.0096\",\"50.4174\",\"50.1621\",\"51.0735\",\"53.5545\",\"58.6067\",\"58.035\",\"58.5711\",\"51.66\",\"58.5913\",\"51.249\",\"57.7161\",\"55.6217\",\"58.6403\",\"50.2421\",\"50.4232\",\"52.009\",\"52.567\",\"52.5676\",\"56.5131\",\"52.5954\",\"51.7143\",\"58.9423\",\"58.9423\",\"51.0649\",\"56.0406\",\"57.8428\",\"50.0549\",\"0\",\"50.0892\",\"50.2232\",\"50.1442\",\"51.5608\",\"58.6432\",\"50.1664\",\"50.5399\",\"58.6493\",\"54.6798\",\"50.8544\",\"55.4285\",\"50.1986\",\"50.7832\",\"50.103\",\"52.8112\",\"58.1146\",\"49.4785\",\"51.3736\",\"50.816\",\"52.3261\",\"54.269\",\"58.6149\",\"53.296\",\"53.9163\",\"56.5074\",\"50.8235\",\"50.8229\",\"58.6438\",\"52.9415\",\"55.9283\",\"51.2105\",\"55.6141\",\"57.836\",\"50.3899\",\"55.4772\",\"50.3508\",\"49.1963\",\"58.6452\",\"58.5311\",\"55.5952\",\"50.005\",\"58.5515\",\"58.646\",\"51.1793\",\"50.6113\",\"51.0356\",\"0\",\"53.9293\",\"58.5691\",\"58.5267\",\"58.5373\",\"49.2347\",\"57.8728\",\"50.8193\",\"50.8193\",\"51.4406\",\"55.7989\",\"53.9054\",\"58.2703\",\"55.7223\",\"53.4251\",\"51.5402\",\"50.2013\",\"50.7844\",\"50.7844\",\"58.2328\",\"53.2652\",\"50.4233\",\"51.7752\",\"52.9709\",\"51.3964\",\"51.3963\",\"58.4639\",\"51.5072\",\"51.4678\",\"50.1283\",\"55.0277\",\"56.6541\",\"58.2954\",\"50.7577\",\"57.6727\",\"57.8408\",\"50.125\",\"55.1951\",\"55.3798\",\"57.0043\",\"51.4933\",\"50.1233\",\"51.3884\",\"53.9273\",\"54.5983\",\"54.7173\",\"50.4694\",\"56.4982\",\"55.6034\",\"58.5586\",\"50.819\",\"51.7808\",\"58.6493\",\"58.5523\",\"51.2109\",\"51.6979\",\"54.9627\",\"54.7355\",\"56.7125\",\"54.0739\",\"50.3088\",\"58.6041\",\"55.9454\",\"57.5898\",\"50.5339\",\"50.7135\",\"53.4425\",\"54.9679\",\"54.966\",\"54.2125\",\"51.8519\",\"50.4179\",\"55.6038\",\"58.4421\",\"56.0592\",\"55.0076\",\"57.5622\",\"51.0564\",\"52.9732\",\"58.5558\",\"51.4664\",\"51.4664\",\"50.8375\",\"58.4233\",\"58.4778\",\"57.8522\",\"0\",\"54.9751\",\"50.806\",\"50.4401\",\"55.6507\",\"58.6275\",\"51.6761\",\"51.4363\",\"51.7376\",\"50.1657\",\"50.2894\",\"50.1121\",\"50.3607\",\"50.1123\",\"51.3487\",\"42.672\",\"44.7983\",\"50.364\",\"50.3635\",\"58.0521\",\"50.4018\",\"50.5761\",\"50.7118\",\"57.7675\",\"51.2195\",\"56.504\",\"58.0985\",\"52.8076\",\"50.51\",\"50.0798\",\"50.2893\",\"55.9552\",\"50.2617\",\"57.4105\",\"55.2058\",\"58.5705\",\"50.8208\",\"50.1023\",\"53.3415\",\"53.752\",\"53.7605\",\"58.5631\",\"55.9937\",\"50.2137\",\"53.648\",\"0\",\"58.6516\",\"51.3805\",\"58.4998\",\"53.2262\",\"53.3261\",\"53.3261\",\"52.0465\",\"53.2443\",\"52.0871\",\"51.77\",\"51.2221\",\"53.8353\",\"52.4515\",\"53.8779\",\"54.547\",\"52.937\",\"51.4883\",\"54.4364\",\"50.3602\",\"53.9232\",\"50.8016\",\"58.2987\",\"51.3857\",\"56.1868\",\"50.2286\",\"57.8552\",\"54.5921\",\"50.8002\",\"50.7229\",\"51.3782\",\"54.4993\",\"58.5635\",\"58.2041\",\"58.5399\",\"50.2064\",\"50.609\",\"58.6441\",\"58.3731\",\"58.3733\",\"51.1082\",\"51.1082\",\"57.8741\",\"54.2884\",\"54.2884\",\"58.6516\",\"57.3148\",\"58.6508\",\"58.3423\",\"58.3508\",\"58.6046\",\"51.4847\",\"52.7905\",\"50.772\",\"55.5741\",\"54.3931\",\"50.7032\",\"50.722\",\"58.5547\",\"57.8698\",\"58.4597\",\"55.5534\",\"50.079\",\"56.0214\",\"51.5643\",\"50.6309\",\"52.8203\",\"58.2975\",\"50.8264\",\"50.6772\",\"50.6772\",\"53.1413\",\"58.541\",\"53.961\",\"58.5957\",\"50.7919\",\"58.6373\",\"55.0051\",\"51.5332\",\"51.5326\",\"50.7785\",\"51.7517\",\"56.3481\",\"54.4874\",\"55.5733\",\"56.7627\",\"51.8951\",\"54.5793\",\"58.4564\",\"58.2377\",\"50.7833\",\"56.9647\",\"55.6927\",\"58.5662\",\"50.6536\",\"52.1872\",\"50.1405\",\"51.6125\",\"58.5306\",\"51.6751\",\"56.4169\",\"58.205\",\"54.8147\",\"50.4088\",\"51.6186\",\"51.5282\",\"58.5971\",\"58.5996\",\"58.5996\",\"53.3374\",\"53.3374\",\"51.052\",\"58.5255\",\"56.4695\",\"50.2673\",\"50.5463\",\"50.5264\",\"58.4287\",\"56.4897\",\"51.3877\",\"55.606\",\"51.3861\",\"51.476\",\"55.0267\",\"52.5878\",\"57.8822\",\"57.8929\",\"57.908\",\"51.4074\",\"56.5273\",\"50.2331\",\"51.2007\",\"54.1044\",\"53.3864\",\"50.4429\",\"50.4429\",\"53.3727\",\"50.7737\",\"50.8894\",\"51.3466\",\"51.0567\",\"51.0567\",\"58.3454\",\"50.3211\",\"50.4286\",\"54.4925\",\"54.5518\",\"58.5651\",\"51.8956\",\"55.0479\",\"51.3595\",\"58.4373\",\"50.79\",\"53.5415\",\"51.2113\",\"51.5474\",\"54.3755\",\"51.4854\",\"53.4105\",\"53.7284\",\"50.6213\",\"50.8086\",\"53.9214\",\"53.9286\",\"50.6617\",\"58.5944\",\"0\"],\"lon\":[\"-4.72866\",\"-2.07748\",\"-4.05465\",\"-4.08485\",\"-4.08485\",\"-1.28181\",\"-1.26919\",\"-3.31341\",\"-4.45189\",\"-3.10441\",\"-4.08765\",\"-6.91114\",\"1.6032\",\"-2.1969\",\"-4.65677\",\"-4.65677\",\"-2.59804\",\"-4.63484\",\"-4.63484\",\"-4.66321\",\"-4.81559\",\"-5.84737\",\"-4.07617\",\"-3.07532\",\"-5.59732\",\"-5.59398\",\"-1.72898\",\"-2.62792\",\"-2.71229\",\"-5.3707\",\"-1.97266\",\"-5.3658\",\"-6.89517\",\"-6.95229\",\"-6.89258\",\"-6.95203\",\"-5.6426\",\"-5.55323\",\"-4.76575\",\"-4.79588\",\"-4.76584\",\"-7.52224\",\"-4.0566\",\"-0.176005\",\"-0.173376\",\"-3.3899\",\"-1.63208\",\"-4.09591\",\"-3.09104\",\"-2.55395\",\"-1.073\",\"-3.19118\",\"-7.24475\",\"0.582413\",\"-4.21541\",\"-3.49532\",\"-2.0025\",\"-1.98419\",\"-4.23391\",\"-3.89472\",\"-0.268754\",\"-3.54397\",\"-0.108904\",\"-3.05613\",\"-3.05672\",\"-3.05888\",\"-3.05888\",\"-0.659853\",\"-5.02806\",\"-4.0519\",\"-1.87588\",\"-3.67679\",\"-4.1224\",\"-0.856789\",\"-0.856789\",\"0.636043\",\"-3.12095\",\"-0.143097\",\"-0.135493\",\"-3.23467\",\"-2.58864\",\"-3.06368\",\"-3.84338\",\"-3.34607\",\"-2.86092\",\"-5.59976\",\"-0.808258\",\"-4.55729\",\"-3.31317\",\"-4.97543\",\"-3.29019\",\"-3.16139\",\"-4.84185\",\"-4.52298\",\"0.794714\",\"-1.52329\",\"-6.40585\",\"-5.70933\",\"-3.11425\",\"-4.93777\",\"-6.97284\",\"-3.22564\",\"-3.22564\",\"0\",\"-7.48559\",\"-3.37281\",\"-4.39777\",\"-4.75486\",\"-2.89971\",\"-2.56363\",\"-2.47213\",\"-1.37252\",\"-2.89488\",\"-0.796424\",\"-2.21724\",\"-5.1875\",\"1.1579\",\"-3.36814\",\"-3.45074\",\"-5.3108\",\"-0.022933\",\"-2.87065\",\"-3.04868\",\"-2.41118\",\"-1.26109\",\"-3.23155\",\"-6.7443\",\"-4.38743\",\"-2.13215\",\"-2.2427\",\"-1.47328\",\"-5.02744\",\"-6.94061\",\"-5.31313\",\"-6.98948\",\"-5.71194\",\"-5.12\",\"-4.22934\",\"-4.0327\",\"1.31087\",\"-3.04536\",\"-6.86475\",\"-3.67259\",\"-0.804267\",\"-4.24063\",\"-1.85283\",\"-1.43102\",\"-1.10516\",\"-5.16808\",\"-3.32904\",\"-3.4393\",\"-4.92698\",\"1.40517\",\"-3.14029\",\"-2.78458\",\"-8.11823\",\"-2.07617\",\"-4.01326\",\"-5.10531\",\"-5.13716\",\"-3.61133\",\"-2.52706\",\"-2.51108\",\"-3.42778\",\"-3.03096\",\"-2.97507\",\"-3.35108\",\"-2.35371\",\"-3.36612\",\"-2.68041\",\"-1.35412\",\"1.2736\",\"-4.0149\",\"-0.870888\",\"0.308229\",\"-1.04597\",\"-3.12705\",\"-3.1594\",\"-3.53029\",\"-3.4185\",\"-6.25903\",\"-8.11298\",\"-5.06416\",\"-4.75188\",\"-4.7633\",\"-4.74473\",\"-4.2106\",\"1.35152\",\"-2.86124\",\"-1.4326\",\"-5.10135\",\"-5.06032\",\"1.17038\",\"-3.10414\",\"-3.67247\",\"-5.41836\",\"-3.79371\",\"-5.06499\",\"-3.07231\",\"-2.31799\",\"-5.68664\",\"-2.81608\",\"-3.16562\",\"-5.39974\",\"-3.5589\",\"-4.98683\",\"1.73327\",\"1.73319\",\"-6.81438\",\"1.73791\",\"-0.045236\",\"-3.02142\",\"-3.02142\",\"-4.21361\",\"-2.83922\",\"-5.60059\",\"-5.27873\",\"0\",\"-5.68892\",\"-5.39867\",\"-5.06796\",\"-0.04301\",\"-3.31083\",\"-5.09922\",\"-4.99475\",\"-3.23747\",\"-1.19657\",\"0.582404\",\"-2.78159\",\"-5.4404\",\"-0.981378\",\"-5.13869\",\"-4.55581\",\"-3.64622\",\"-2.44796\",\"1.12216\",\"-1.23331\",\"-0.195143\",\"-0.391181\",\"-3.53896\",\"-3.2029\",\"-0.161414\",\"-6.98163\",\"-0.168217\",\"-0.164912\",\"-3.10858\",\"0.486268\",\"8.14701\",\"-4.11263\",\"-3.05439\",\"-5.58209\",\"-3.92007\",\"-2.55121\",\"-4.12278\",\"-2.14585\",\"-3.0559\",\"-3.11987\",\"-2.42868\",\"-5.16257\",\"-4.77859\",\"-3.32111\",\"-3.21783\",\"-2.13099\",\"-0.549505\",\"0\",\"-2.99524\",\"-4.80072\",\"-4.81157\",\"-4.78752\",\"-2.24019\",\"-5.53953\",\"-0.3263\",\"-0.3263\",\"-2.74517\",\"-4.87017\",\"-3.05067\",\"-3.383\",\"-2.75673\",\"-3.09384\",\"0.643357\",\"-5.42643\",\"-1.35653\",\"-1.3558\",\"-6.35875\",\"-0.653589\",\"-5.09791\",\"-5.10974\",\"-3.16965\",\"-3.50087\",\"-3.50166\",\"-5.0583\",\"-0.119553\",\"-0.212417\",\"-5.50182\",\"-1.42599\",\"-2.50103\",\"-3.29137\",\"-1.52958\",\"-2.49306\",\"-5.60044\",\"-5.09212\",\"-6.96373\",\"-7.36506\",\"-5.82377\",\"-2.51528\",\"-5.47715\",\"1.37818\",\"-3.01903\",\"-1.01677\",\"-3.50134\",\"-5.03864\",\"-6.97904\",\"-2.72068\",\"-3.91286\",\"-1.24553\",\"0.965024\",\"-3.23821\",\"-4.44282\",\"-3.46259\",\"-4.67983\",\"-1.53786\",\"-4.5545\",\"-2.4473\",\"-2.86566\",\"-3.95238\",\"-3.4344\",\"-3.0703\",\"-3.86976\",\"-3.49996\",\"-1.10537\",\"-3.05087\",\"-3.28959\",\"-1.61053\",\"-5.88654\",\"-5.12433\",\"-5.07877\",\"-2.69622\",\"-3.07659\",\"-2.72034\",\"-1.43864\",\"-7.28071\",\"-0.64767\",\"-1.28641\",\"-3.08245\",\"-3.64283\",\"-3.64283\",\"0.478009\",\"-3.08246\",\"-5.09103\",\"-5.61581\",\"0\",\"-1.59087\",\"-0.071338\",\"-3.55733\",\"-3.19586\",\"-3.37388\",\"-4.91104\",\"-3.16546\",\"-4.53333\",\"-5.08321\",\"-4.77986\",\"-5.54086\",\"-5.15317\",\"-5.4427\",\"-1.77356\",\"9.44662\",\"-1.2315\",\"-4.14471\",\"-4.14085\",\"-5.4122\",\"-5.13609\",\"-4.91888\",\"-1.98536\",\"-5.60155\",\"-3.62633\",\"-6.987\",\"-3.68184\",\"-4.55162\",\"-5.02928\",\"-5.31188\",\"-5.24646\",\"-3.11034\",\"-5.29366\",\"-6.19792\",\"-6.64683\",\"-3.93146\",\"-1.09321\",\"-5.38745\",\"-3.41556\",\"-2.69922\",\"-2.74217\",\"-3.8594\",\"-3.42238\",\"-5.47818\",\"-2.31379\",\"0\",\"-3.27705\",\"1.21365\",\"-3.13169\",\"-4.52431\",\"-3.48714\",\"-3.48714\",\"1.34363\",\"-3.10123\",\"-0.269369\",\"-0.199941\",\"-3.7869\",\"-1.08169\",\"-1.90621\",\"-2.41018\",\"-1.7767\",\"-1.15794\",\"-2.64235\",\"-0.528498\",\"-3.58735\",\"-3.04482\",\"-0.054311\",\"-3.27309\",\"-2.37737\",\"-2.81293\",\"-3.77998\",\"-5.62557\",\"-0.994519\",\"-0.0422\",\"-1.11741\",\"-2.98234\",\"-0.658891\",\"-3.78514\",\"-6.3663\",\"-5.06076\",\"-5.41576\",\"-3.36608\",\"-3.04075\",\"-3.11143\",\"-3.11152\",\"-4.2223\",\"-4.2223\",\"-6.70227\",\"-0.397323\",\"-0.397323\",\"-3.27693\",\"-6.10557\",\"-3.17799\",\"-5.1702\",\"-5.17433\",\"-3.54739\",\"-2.65733\",\"1.60315\",\"0.094102\",\"-1.64465\",\"-3.4891\",\"-3.06622\",\"-2.82337\",\"-4.68321\",\"-6.9564\",\"-3.05597\",\"-2.84603\",\"-5.69738\",\"-2.87701\",\"-2.66703\",\"-1.17084\",\"-4.14349\",\"-3.27892\",\"-0.270226\",\"-3.24081\",\"-3.24081\",\"0.349682\",\"-4.30204\",\"-2.02129\",\"-3.05632\",\"-1.21193\",\"-3.03261\",\"-1.4224\",\"0.704135\",\"0.70931\",\"-1.07906\",\"-0.350177\",\"-2.80589\",\"-3.60137\",\"-2.64633\",\"-2.41579\",\"-5.29558\",\"-8.43966\",\"-3.05552\",\"-5.40208\",\"-1.16272\",\"-2.20614\",\"-2.86493\",\"-3.99995\",\"-1.95204\",\"0.970455\",\"-5.07627\",\"-3.94469\",\"-4.43033\",\"-4.70128\",\"-2.80772\",\"-6.30995\",\"-4.09092\",\"-5.10616\",\"-2.60037\",\"0.757716\",\"-3.52035\",\"-3.50907\",\"-3.50907\",\"-3.14274\",\"-3.14274\",\"-4.23659\",\"-4.25246\",\"-6.97142\",\"-4.91754\",\"-4.98002\",\"-5.02455\",\"-3.07032\",\"-6.97599\",\"-0.503766\",\"-2.77233\",\"0.600068\",\"-0.872009\",\"-1.42553\",\"-4.10384\",\"-5.55028\",\"-5.16443\",\"-5.181\",\"0.52748\",\"-6.78607\",\"-4.79333\",\"1.40583\",\"-3.24176\",\"-2.6099\",\"-5.0471\",\"-5.0471\",\"-3.18965\",\"-0.905867\",\"-1.38277\",\"-2.99159\",\"-4.23466\",\"-4.23466\",\"-3.16196\",\"-5.20994\",\"-5.05724\",\"-0.615006\",\"-3.59568\",\"-4.59519\",\"-5.29833\",\"-1.44384\",\"1.01867\",\"-3.07969\",\"-4.55875\",\"-2.63924\",\"-4.12237\",\"-0.236517\",\"-2.93355\",\"-0.613369\",\"-3.14533\",\"0.0221293\",\"-2.19111\",\"-0.373572\",\"-3.00371\",\"-3.00395\",\"-1.13394\",\"-3.37281\",\"0\"],\"marker\":{\"color\":\"orange\",\"size\":[67.0,288.9,24.0,33.0,2.5,5.0,479.0,50.21,39.22,287.610288,63.0,6.0,43.3,154.0,56.0,161.0,88.0,41.0,20.0,1000.0,12.0,45.0,466.182228,51.55,20.7,80.7,316.34000000000003,707.0,168.0,232.44,30.0,1552.9099999999999,4.4,6127.78,6150.1,51.26,21.0,146.0,6394.03,48.0,29.0,660.0,65.0,55.0,120.0,315.83,50.0,78.0,71.0,28.0,25.6,5.0,250.0,21.0,32.0,16.04,44.0,32.9,5.3977448,84.0,41.0,44.0,67.0,445.6,119.0,72.0,15.35,48.0,3.0,67.0,237.2,60.0,32.0,99.0,27.0,167.0,21.0,340.0,51.0,496.5595008,1080.0,33.53,71.85000000000001,137.3257352,58.0,20.7,22.0,6.0,1.6,200.0,1.81,783.9503592,42.0,18.0,58.0,106.0,24.0,12.0,44.26,42.0,23.4,115.48492,370.09000000000003,13.379999999999999,274.0,1377.5561816,12.0,51.0,300.0,38.0,8.8,3066.0,213.2,23.0,48.0,38.0,2.9,246.8680968,890.4063128,108.7,34.6,69.0,109.0,39.0,48.0,72.23707519999999,30.4,7.61,71.0,56.0,157.0,14.0,2000.0,0.0,267.6,203.0,135.0,39.0,17.0,240.0,89.0,3739.33,559.3662392,533.0,42.3,21.0,43.0,100.0,16.0,260.0,41.5,2041.0,308.0,31.0,78.0,43.0,80.0,9.0,31.0,800.0,66.0,71.0,19.0,447.2785912,9.530000000000001,28.2,9724.5163288,61.0,204.1453384,72.0,172.0,96.0,110.0,114.0,500.0,67.0,169.9,66.0,78.22999999999999,80.0,33.0,9.0,2.0,788.5,264.2,11.75,246.3535496,186.0,129.0,67.0,427.0,15.0,207.0,233.0,88.009,75.0,5.0802304,202.0,847.2779248,110.0,5.0,44.0,940.0203759999999,41.0,90.5,150.0,534.9,105.0,386.58,231.5,57.0,10.540000000000001,3.16,52.0,58.0,20.7,156.0,8.12,73.0,59.0,29.0,387.0,131.0054776,97.7,9.0,451.818456,120.2,142.0,91.0,78.0,89.0,26.3,86.8,299.37,11.0,41.5,44.0,40.0,83.0,300.0,620.0,1062.0,82.7,93.0,46.0,204.04803040000002,103.1,64.0,28.0,101.0,20.7,19.25,41.0,5.0,32.0,710.2420711999999,1068.8234896000001,38.0,40.0,17.2,22.0445712,50.0,68.0,16.0,2.27,137.5,20.5,733.0,70.2,93.0,20.7,148.0,46.0,14.0,27.0,116.0,58.83,57.0,118.57,63.0,21.0,57.0,3.0,72.0,52.0,25.0,22.0,21.0,15.0,188.0,132.99,62.0,85.0,175.0,85.0,80.0,62.1454744,80.0,11.1,20.7,113.0,251.4,86.5,33.0,68.0,554.0,45.2,90.0,72.0,82.0,75.0,660.5,522.0,148.2675784,32.5,101.0,309.57654,55.51,93.5,312.0,200.0,75.0,196.0,4.6,39.0,1885.4348464,101.0,9.9,32.0,84.0,346.0,169.8,92.0,63.5,96.0,3.0,81.0,38.39,120.0,138.0,514.0,36.0,20.0,2.28,44.0,1000.0,52.0,11.19,403.5,20.7,4.59,55.0,43.0,212.0,103.0,556.1024344,89.0,188.12,137.0,94.0,135.0,118.0,745.0,61.0,112.0,2.0,8.0,267.0,41.0,16.6,29.0,71.0,46.0,0.5,60.0,195.3,141.68,56.0,47.0,44.0,77.0,69.0,152.22,18.7,101.0,94.75747199999999,38.0,81.0,228.0,135.0,198.0,10.345432,11.4,5.0,107.0,9.98,160.4630168,52.0,577.4907072,22.1,143.6,61.4,54.0,198.0,190.0,3000.0,5.0,30.0,28.0,3106.0,340.0,59.0,57.0,101.0,131.0,212.5,146.0,134.5904432,84.815,21.0,18.5,20.7,139.35,88.0,37.0,70.0,71.0,3110.7712136,220.0,1.68,62.0,33.0,362.8248112,92.10000000000001,88.85388,177.0,130.8,274.0,1303.5,37.0,229.717724,36.6,21.24,73.7,1612.26,2890.5880704,84.0,96.0,173.0,78.0,16.0,30.2,32.7,104.8,65.0,113.8241048,103.0,362.0,33.2,35.0,142.0,59.0,8.3460928,1000.0,199.0,26.0,58.4,10.83,72.0,116.94636000000001,5000.0,5.67,110.0,3108.0,141.4,35.0,78.0,15.0,28.0,39.0,1054.25,13.1,65.14,35.275159200000004,19.0,123.0,157.35,51.0,139.5142984,32.0,40.0,283.35,12.4,3.52,416.2,790.0,100.0,5.4,20.0,120.0,68.0,1222.1897232000001,1050.8422936,54.290000000000006,100.0,60.0,26.0,13.33,124.2,13.0,11.0,20.0,0.5,208.5,85.0,1907.0,49.0,40.25,32.0,34.0,20.7,102.0,6.25,15.0,255.7,10.0,92.5,72.0,30.5,322.0,179.0,116.25,75.0,5.5,139.34,21.0,62.0,22.452804,175.0,61.0,102.0,48.0,24.1764536,23.0,800.0,127.0,218.135032,15.0,80.0,32.0,102.0,73.0,80.0,66.0,4.4,300.0,131.0,77.0,82.0,61.0,8.799999999999999,31.61],\"sizemode\":\"area\",\"sizeref\":10},\"text\":[\"Aberdaron \",\"Aberdeen\",\"Aberdovey\",\"Aberystwyth\",\"Aberyswyth\",\"Abingdon\",\"Abingdon Lock\",\"Achastle\",\"Achininiver\",\"Ackergill\",\"Afon Colwyn\",\"Aird, Cornaigmore\",\"Aldeburgh\",\"Alderney\",\"Amorth\",\"Amroth\",\"Ancrum\",\"Anglesey\",\"Anglesey \",\"Ard Neackie\",\"Ardrossan North\",\"Arisaig\",\"Armadale\",\"Aukengill\",\"Aultbea back slab beach\",\"Aultbea shop beach\",\"Avon Beach\",\"Avon Gorge\",\"Avonmouth\",\"Badentarbet\",\"Baiter Bay\",\"Balchladich\",\"Balemartine\",\"Balephuil Bay\",\"Balinoe\",\"Ballevullin\",\"Ballyholme\",\"Ballyhornan\",\"Balnakeil\",\"Balnakeil Bay (Eilean Dubh)\",\"Balnakiel\",\"Balranald\",\"Barmouth\",\"Battersea\",\"Battersea Bridge\",\"Battery\",\"Beadnell Bay\",\"Beaumaris\",\"Beer Beach\",\"Belhaven\",\"Bembridge\",\"Ben Ninnes\",\"Benbecula\",\"Benfleet Creek\",\"Benllech\",\"Berriedale\",\"Berwick\",\"Berwick upon Tweed\",\"Bettyhill\",\"Bigbury\",\"Biggleswade\",\"Bishopsteignton\",\"Black Rock\",\"Blackpool\",\"Blackpool Beach\",\"Blackpool South\",\"Blackpool South Shore\",\"Bognor Regis\",\"Booby's Bay\",\"Borth\",\"Bournemouth\",\"Bovey Tracey\",\"Bovisand\",\"Bracklesham Bay\",\"Bracklesham bay\",\"Brancaster\",\"Branscombe\",\"Brighton\",\"Brighton Beach\",\"Brims\",\"Bristol\",\"Broadhaven\",\"Brora\",\"Brough\",\"Broughty Ferry\",\"Bualnaluib beach\",\"Bucks Canals\",\"Bude\",\"Budleigh Salterton\",\"Bullslaughter Bay\",\"Burn Of Rattar\",\"Burnside\",\"Caerhays\",\"Cairndoon to Claymoddie shore\",\"Camber\",\"Cambois\",\"Camus More\",\"Cape Cornwall\",\"Cardrona\",\"Carne Beach\",\"Carrastaoin (Cavey Beach)\",\"Castle Of Mey\",\"Castle of Mey\",\"Castle sinc gir\",\"Castlebay\",\"Castletown\",\"Cefn Sidan\",\"Charlestown\",\"Charmouth\",\"Chesil\",\"Chesil beach\",\"Chessel Bay\",\"Chester\",\"Chichester Canal\",\"Chirnside\",\"Church Cove\",\"Clacton-on-Sea\",\"Clais Ceathaich\",\"Claredon Haven\",\"Clashnessie\",\"Cleethorpes\",\"Clevedon\",\"Cleveleys\",\"Clitheroe\",\"Clowne\",\"Clyth\",\"Coalas\",\"Coldbackie\",\"Coldingham Bay \",\"Coldstream\",\"Compton\",\"Constantine\",\"Corr-eileen\",\"Coverack (Porthleven)\",\"Craiginish Point\",\"Craignure\",\"Crantock\",\"Criccieth\",\"Cromarty\",\"Cromer\",\"Crosby\",\"Crossapol - Tiree\",\"Crosskirk\",\"Crowthorne\",\"Croyde\",\"Cruden Bay\",\"Cullercoats\",\"Culver Cliffs\",\"Dale\",\"Dalmeny Estate\",\"Dawlish Warren\",\"Daymer Bay\",\"Deal\",\"Derwent\",\"Dingieshowe (Orkney)\",\"Donegal Town\",\"Donmouth \",\"Dornoch\",\"Druidstone Haven\",\"Duartbeg\",\"Dumfries\",\"Dunbar\",\"Dunbar East\",\"Dunbeath\",\"Duncansby\",\"Dundee\",\"Dunnet\",\"Duns\",\"Dwarwick\",\"Earlston\",\"Easington\",\"East Runton\",\"East Sutherland\",\"East Wittering\",\"Eastbourne\",\"Eastney\",\"Edinburgh\",\"Eshiels\",\"Exeter Quay\",\"Exmouth\",\"Fairy Pools\",\"Falcarragh\",\"Falmouth\",\"Faraid Head (Aeden)\",\"Faraid Head (Arch Cove)\",\"Faraid Head (Geodah Brat)\",\"Farr Bay\",\"Felixstowe\",\"Ferry Beach\",\"Fish Quay\",\"Fistral\",\"Flushing\",\"Folkestone\",\"Formby\",\"Forss\",\"Fox point (Coigach)\",\"Fresgoe\",\"Freshwater West\",\"Freswick\",\"Frome River\",\"Gairloch Beach\",\"Galashiels\",\"Gills\",\"Godrevy\",\"Goodrington Sands\",\"Goodwick Harbour\",\"Gorleston\",\"Gorlestone\",\"Gott Pier\",\"Great Yarmouth\",\"Greenbank\",\"Greenigeo\",\"Greenigoe\",\"Greysands\",\"Gullane\",\"Gun pits beach\",\"Gunwalloe\",\"Guttery Geo\",\"Gwenver\",\"Gwithian\",\"Gyllyngvase\",\"Hackney\",\"Ham\",\"Harbour Village\",\"Harlyn\",\"Harrow\",\"Hartlepool\",\"Hastings\",\"Hawick\",\"Hayle\",\"Hayling Island\",\"Helford Passage\",\"Hells Mouth\",\"Helmsdale\",\"Herme\",\"Herne Bay\",\"Hillhead\",\"Hinching Brooke\",\"Holbeck Ravine\",\"Holborn Head\",\"Holywell\",\"Hornsea\",\"Hough Bay\",\"Hove\",\"Hove Lawns\",\"Huna\",\"Hunstanton\",\"Hvide Sande\",\"Ilfracombe Harbour\",\"Innerleithen\",\"Isleview beach\",\"Ivybridge\",\"Jedburgh\",\"Jennycliffe\",\"Jersey\",\"John O'Groats\",\"Keiss\",\"Kelso\",\"Kennack Sands\",\"Keoldale\",\"Kerry Geo\",\"Kilve\",\"Kimmeridge\",\"Kirdford\",\"Kirk Geo\",\"Knott End Beach\",\"Kyle of Durness (NE)\",\"Kyle of Durness (Old Grudy)\",\"Kyle of Durness (Sarsgrum)\",\"L'etacq\",\"Laide Jetty\",\"Lancing\",\"Lancing \",\"Land Yeo\",\"Largs\",\"Larkholme Grasslands\",\"Latheronwheel\",\"Lauder\",\"Leasowe Bay\",\"Leigh on Sea\",\"Lelant\",\"Lepe Bay\",\"Lepe Country Park\",\"Lewis\",\"Lincoln Canal\",\"Little Fistral\",\"Little Haven\",\"Llanollen\",\"Llantwit\",\"Llantwit Major\",\"Loch Clash (Kinlochbervie)\",\"London\",\"London (Putney)\",\"Long Rock\",\"Longsands\",\"Lunan Bay\",\"Lybster\",\"Lymington\",\"Macduff\",\"Maclennan Park Beach\",\"Maenporth\",\"Magilligan Point\",\"Malin Head\",\"Mallaig\",\"Mangotsfield\",\"Marazion\",\"Margate\",\"Marnie Beach\",\"Marske\",\"Maryport\",\"Mawgan Porth\",\"Maze Beach\",\"Melrose\",\"Melvich\",\"Meon Shore\",\"Mersea Island\",\"Mey\",\"Midfield Beach\",\"Minehead\",\"Monkstone\",\"Monkton Burn\",\"Monreith\",\"Montrose\",\"Morecambe\",\"Mothecombe \",\"Murkle\",\"Musselburgh\",\"Nairn\",\"Ness Cove\",\"Nettlestone and Seaview\",\"New Brighton\",\"Newbie Beach\",\"Newcastle\",\"Newcastle (IR)\",\"Newgale\",\"Newquay\",\"Newstead\",\"North Baths\",\"North Berwick\",\"North Shields\",\"North Uist\",\"Northchapel\",\"Nottingham Canal\",\"Nybster\",\"Ogmore\",\"Ogmore Beach\",\"Old Bathing Station, Bexhill\",\"Old Wick Castle\",\"Oldshoremore\",\"Ormiscaig\",\"Otter Geo\",\"Ouseburn\",\"Ovingdean\",\"Paignton\",\"Peebles\",\"Peedie Sands\",\"Pembroke\",\"Penarth\",\"Pendine Sands\",\"Penryn River\",\"Pentewan\",\"Penzance\",\"Perranporth\",\"Perranuthnoe\",\"Pewsey\",\"Plage de l'Arinella\",\"Plage du Grand Crohot\",\"Plymouth\",\"Plymouth Hoe\",\"Polbain\",\"Polly Joke\",\"Polzeath\",\"Poole Harbour\",\"Poolewe beach\",\"Porlock Weir\",\"Port Hanais, Craiginish Point\",\"Portgower\",\"Porth Neigwl\",\"Porthcothan\",\"Porthleven\",\"Porthtowan\",\"Portobello\",\"Portreath\",\"Portree\",\"Portrush East Strand\",\"Portskerra\",\"Portsmouth\",\"Praa Sands\",\"Prestatyn\",\"Preston\",\"Preston Marina\",\"Puffin Cove\",\"Queensferry\",\"REST/St Ives\",\"Ramsbottom\",\"Ramsigeo\",\"Rattar\",\"Reculver\",\"Reiss\",\"Rhosenigr\",\"Rhyl\",\"Rhyl \",\"River Deben\",\"River Dee\",\"River Ivel\",\"River Lea\",\"River Lyn, Exmoor\",\"River Ouse\",\"River Rea\",\"River Ribble\",\"River Tees\",\"River Trent\",\"River Trym\",\"Robin Hood's Bay\",\"Rock Park\",\"Rossal Point Observation Tower\",\"Rottingdean\",\"Roy Geo\",\"Royal Victoria Park\",\"Ruby Bay\",\"Salcombe\",\"Salmon Beach\",\"Saltburn\",\"Saltdean\",\"Salterns\",\"Sand Bay\",\"Sandsend \",\"Sandside\",\"Sandwick Bay\",\"Sandwood Bay\",\"Sandy Acres\",\"Sandy Bay\",\"Sannick\",\"Sarclet\",\"Sarclet Haven\",\"Saunton\",\"Saunton Sands \",\"Scalpay\",\"Scarborough\",\"Scarborough \",\"Scarfskerry\",\"Sconser\",\"Scotlands Haven\",\"Scourie (Camas an Tairidh)\",\"Scouriemore (Cana Nam Buch)\",\"Scrabster\",\"Sea Mills\",\"Sea Palling\",\"Seaford\",\"Seahouses\",\"Seascale\",\"Seaton\",\"Seatown\",\"Secret Beach (Durness)\",\"Seilebost\",\"Selkie Beach\",\"Selkirk\",\"Sennen\",\"Seton Sands\",\"Severn Beach\",\"Shanklin\",\"Shell Island\",\"Shelligoe\",\"Shoreham\",\"Sidmouth\",\"Sidmouth \",\"Skegness\",\"Skerray\",\"Skipton\",\"Skirza\",\"Solent\",\"South Duncansby Head\",\"South Shields\",\"Southend\",\"Southend-on-Sea\",\"Southsea\",\"St Albans\",\"St Andrews\",\"St Bees\",\"St Boswells\",\"St Cyrus\",\"St Davids\",\"St John's Point\",\"Staxigoe\",\"Stoer Beach\",\"Stokes Bay\",\"Stonehaven\",\"Stow\",\"Strathy\",\"Studland\",\"Suffolk\",\"Swanpool\",\"Swansea\",\"Talmine Bay\",\"Tenby\",\"Tentsmuir\",\"The Braighe\",\"The Dhoon\",\"The Gannel\",\"Thornbury\",\"Thorpe Bay\",\"Thurso\",\"Thurso East\",\"Thurso east\",\"Thurstason\",\"Thurstaston\",\"Torridge\",\"Torrisdale Bay\",\"Traigh nan Gilean\",\"Tregony\",\"Trevone\",\"Treyarnon\",\"Trinkie\",\"Tr\\u00e0igh Ghrianal (Cean a Mhara)\",\"Tulk Field, Chertsey\",\"Tweedbank\",\"Twydall\",\"Twyford\",\"Tynemouth\",\"Tywyn\",\"Udrigle Beach\",\"Ullapool\",\"Ullapool (Luib na M\\u00f2r-choille)\",\"Upnor\",\"Vaul\",\"Vault Beach\",\"Walmer Castle\",\"Walney Island\",\"Warrington\",\"Watergate\",\"Watergate Bay\",\"West Kirby\",\"West Wittering\",\"Weston Shore\",\"Weston Super Mare\",\"Westward Ho\",\"Westward Ho!\",\"Whaligoe\",\"Wheal Kitty\",\"Whipsiddery\",\"Whitby\",\"Whitehaven\",\"Whiten Head\",\"Whitesands\",\"Whitley Bay\",\"Whitstable\",\"Wick\",\"Widemouth\",\"Wigan Canal\",\"Wildersmouth\",\"Willesden\",\"Windermere \",\"Windsor\",\"Wirral\",\"Withernsea\",\"Worbarrow\",\"Worthing\",\"Wyre Beach\",\"Wyre Estuary\",\"Yaverland\",\"castletown\",\"duinn\"],\"type\":\"scattermapbox\"}],                        {\"template\":{\"data\":{\"bar\":[{\"error_x\":{\"color\":\"#2a3f5f\"},\"error_y\":{\"color\":\"#2a3f5f\"},\"marker\":{\"line\":{\"color\":\"#E5ECF6\",\"width\":0.5},\"pattern\":{\"fillmode\":\"overlay\",\"size\":10,\"solidity\":0.2}},\"type\":\"bar\"}],\"barpolar\":[{\"marker\":{\"line\":{\"color\":\"#E5ECF6\",\"width\":0.5},\"pattern\":{\"fillmode\":\"overlay\",\"size\":10,\"solidity\":0.2}},\"type\":\"barpolar\"}],\"carpet\":[{\"aaxis\":{\"endlinecolor\":\"#2a3f5f\",\"gridcolor\":\"white\",\"linecolor\":\"white\",\"minorgridcolor\":\"white\",\"startlinecolor\":\"#2a3f5f\"},\"baxis\":{\"endlinecolor\":\"#2a3f5f\",\"gridcolor\":\"white\",\"linecolor\":\"white\",\"minorgridcolor\":\"white\",\"startlinecolor\":\"#2a3f5f\"},\"type\":\"carpet\"}],\"choropleth\":[{\"colorbar\":{\"outlinewidth\":0,\"ticks\":\"\"},\"type\":\"choropleth\"}],\"contour\":[{\"colorbar\":{\"outlinewidth\":0,\"ticks\":\"\"},\"colorscale\":[[0.0,\"#0d0887\"],[0.1111111111111111,\"#46039f\"],[0.2222222222222222,\"#7201a8\"],[0.3333333333333333,\"#9c179e\"],[0.4444444444444444,\"#bd3786\"],[0.5555555555555556,\"#d8576b\"],[0.6666666666666666,\"#ed7953\"],[0.7777777777777778,\"#fb9f3a\"],[0.8888888888888888,\"#fdca26\"],[1.0,\"#f0f921\"]],\"type\":\"contour\"}],\"contourcarpet\":[{\"colorbar\":{\"outlinewidth\":0,\"ticks\":\"\"},\"type\":\"contourcarpet\"}],\"heatmap\":[{\"colorbar\":{\"outlinewidth\":0,\"ticks\":\"\"},\"colorscale\":[[0.0,\"#0d0887\"],[0.1111111111111111,\"#46039f\"],[0.2222222222222222,\"#7201a8\"],[0.3333333333333333,\"#9c179e\"],[0.4444444444444444,\"#bd3786\"],[0.5555555555555556,\"#d8576b\"],[0.6666666666666666,\"#ed7953\"],[0.7777777777777778,\"#fb9f3a\"],[0.8888888888888888,\"#fdca26\"],[1.0,\"#f0f921\"]],\"type\":\"heatmap\"}],\"heatmapgl\":[{\"colorbar\":{\"outlinewidth\":0,\"ticks\":\"\"},\"colorscale\":[[0.0,\"#0d0887\"],[0.1111111111111111,\"#46039f\"],[0.2222222222222222,\"#7201a8\"],[0.3333333333333333,\"#9c179e\"],[0.4444444444444444,\"#bd3786\"],[0.5555555555555556,\"#d8576b\"],[0.6666666666666666,\"#ed7953\"],[0.7777777777777778,\"#fb9f3a\"],[0.8888888888888888,\"#fdca26\"],[1.0,\"#f0f921\"]],\"type\":\"heatmapgl\"}],\"histogram\":[{\"marker\":{\"pattern\":{\"fillmode\":\"overlay\",\"size\":10,\"solidity\":0.2}},\"type\":\"histogram\"}],\"histogram2d\":[{\"colorbar\":{\"outlinewidth\":0,\"ticks\":\"\"},\"colorscale\":[[0.0,\"#0d0887\"],[0.1111111111111111,\"#46039f\"],[0.2222222222222222,\"#7201a8\"],[0.3333333333333333,\"#9c179e\"],[0.4444444444444444,\"#bd3786\"],[0.5555555555555556,\"#d8576b\"],[0.6666666666666666,\"#ed7953\"],[0.7777777777777778,\"#fb9f3a\"],[0.8888888888888888,\"#fdca26\"],[1.0,\"#f0f921\"]],\"type\":\"histogram2d\"}],\"histogram2dcontour\":[{\"colorbar\":{\"outlinewidth\":0,\"ticks\":\"\"},\"colorscale\":[[0.0,\"#0d0887\"],[0.1111111111111111,\"#46039f\"],[0.2222222222222222,\"#7201a8\"],[0.3333333333333333,\"#9c179e\"],[0.4444444444444444,\"#bd3786\"],[0.5555555555555556,\"#d8576b\"],[0.6666666666666666,\"#ed7953\"],[0.7777777777777778,\"#fb9f3a\"],[0.8888888888888888,\"#fdca26\"],[1.0,\"#f0f921\"]],\"type\":\"histogram2dcontour\"}],\"mesh3d\":[{\"colorbar\":{\"outlinewidth\":0,\"ticks\":\"\"},\"type\":\"mesh3d\"}],\"parcoords\":[{\"line\":{\"colorbar\":{\"outlinewidth\":0,\"ticks\":\"\"}},\"type\":\"parcoords\"}],\"pie\":[{\"automargin\":true,\"type\":\"pie\"}],\"scatter\":[{\"marker\":{\"colorbar\":{\"outlinewidth\":0,\"ticks\":\"\"}},\"type\":\"scatter\"}],\"scatter3d\":[{\"line\":{\"colorbar\":{\"outlinewidth\":0,\"ticks\":\"\"}},\"marker\":{\"colorbar\":{\"outlinewidth\":0,\"ticks\":\"\"}},\"type\":\"scatter3d\"}],\"scattercarpet\":[{\"marker\":{\"colorbar\":{\"outlinewidth\":0,\"ticks\":\"\"}},\"type\":\"scattercarpet\"}],\"scattergeo\":[{\"marker\":{\"colorbar\":{\"outlinewidth\":0,\"ticks\":\"\"}},\"type\":\"scattergeo\"}],\"scattergl\":[{\"marker\":{\"colorbar\":{\"outlinewidth\":0,\"ticks\":\"\"}},\"type\":\"scattergl\"}],\"scattermapbox\":[{\"marker\":{\"colorbar\":{\"outlinewidth\":0,\"ticks\":\"\"}},\"type\":\"scattermapbox\"}],\"scatterpolar\":[{\"marker\":{\"colorbar\":{\"outlinewidth\":0,\"ticks\":\"\"}},\"type\":\"scatterpolar\"}],\"scatterpolargl\":[{\"marker\":{\"colorbar\":{\"outlinewidth\":0,\"ticks\":\"\"}},\"type\":\"scatterpolargl\"}],\"scatterternary\":[{\"marker\":{\"colorbar\":{\"outlinewidth\":0,\"ticks\":\"\"}},\"type\":\"scatterternary\"}],\"surface\":[{\"colorbar\":{\"outlinewidth\":0,\"ticks\":\"\"},\"colorscale\":[[0.0,\"#0d0887\"],[0.1111111111111111,\"#46039f\"],[0.2222222222222222,\"#7201a8\"],[0.3333333333333333,\"#9c179e\"],[0.4444444444444444,\"#bd3786\"],[0.5555555555555556,\"#d8576b\"],[0.6666666666666666,\"#ed7953\"],[0.7777777777777778,\"#fb9f3a\"],[0.8888888888888888,\"#fdca26\"],[1.0,\"#f0f921\"]],\"type\":\"surface\"}],\"table\":[{\"cells\":{\"fill\":{\"color\":\"#EBF0F8\"},\"line\":{\"color\":\"white\"}},\"header\":{\"fill\":{\"color\":\"#C8D4E3\"},\"line\":{\"color\":\"white\"}},\"type\":\"table\"}]},\"layout\":{\"annotationdefaults\":{\"arrowcolor\":\"#2a3f5f\",\"arrowhead\":0,\"arrowwidth\":1},\"autotypenumbers\":\"strict\",\"coloraxis\":{\"colorbar\":{\"outlinewidth\":0,\"ticks\":\"\"}},\"colorscale\":{\"diverging\":[[0,\"#8e0152\"],[0.1,\"#c51b7d\"],[0.2,\"#de77ae\"],[0.3,\"#f1b6da\"],[0.4,\"#fde0ef\"],[0.5,\"#f7f7f7\"],[0.6,\"#e6f5d0\"],[0.7,\"#b8e186\"],[0.8,\"#7fbc41\"],[0.9,\"#4d9221\"],[1,\"#276419\"]],\"sequential\":[[0.0,\"#0d0887\"],[0.1111111111111111,\"#46039f\"],[0.2222222222222222,\"#7201a8\"],[0.3333333333333333,\"#9c179e\"],[0.4444444444444444,\"#bd3786\"],[0.5555555555555556,\"#d8576b\"],[0.6666666666666666,\"#ed7953\"],[0.7777777777777778,\"#fb9f3a\"],[0.8888888888888888,\"#fdca26\"],[1.0,\"#f0f921\"]],\"sequentialminus\":[[0.0,\"#0d0887\"],[0.1111111111111111,\"#46039f\"],[0.2222222222222222,\"#7201a8\"],[0.3333333333333333,\"#9c179e\"],[0.4444444444444444,\"#bd3786\"],[0.5555555555555556,\"#d8576b\"],[0.6666666666666666,\"#ed7953\"],[0.7777777777777778,\"#fb9f3a\"],[0.8888888888888888,\"#fdca26\"],[1.0,\"#f0f921\"]]},\"colorway\":[\"#636efa\",\"#EF553B\",\"#00cc96\",\"#ab63fa\",\"#FFA15A\",\"#19d3f3\",\"#FF6692\",\"#B6E880\",\"#FF97FF\",\"#FECB52\"],\"font\":{\"color\":\"#2a3f5f\"},\"geo\":{\"bgcolor\":\"white\",\"lakecolor\":\"white\",\"landcolor\":\"#E5ECF6\",\"showlakes\":true,\"showland\":true,\"subunitcolor\":\"white\"},\"hoverlabel\":{\"align\":\"left\"},\"hovermode\":\"closest\",\"mapbox\":{\"style\":\"light\"},\"paper_bgcolor\":\"white\",\"plot_bgcolor\":\"#E5ECF6\",\"polar\":{\"angularaxis\":{\"gridcolor\":\"white\",\"linecolor\":\"white\",\"ticks\":\"\"},\"bgcolor\":\"#E5ECF6\",\"radialaxis\":{\"gridcolor\":\"white\",\"linecolor\":\"white\",\"ticks\":\"\"}},\"scene\":{\"xaxis\":{\"backgroundcolor\":\"#E5ECF6\",\"gridcolor\":\"white\",\"gridwidth\":2,\"linecolor\":\"white\",\"showbackground\":true,\"ticks\":\"\",\"zerolinecolor\":\"white\"},\"yaxis\":{\"backgroundcolor\":\"#E5ECF6\",\"gridcolor\":\"white\",\"gridwidth\":2,\"linecolor\":\"white\",\"showbackground\":true,\"ticks\":\"\",\"zerolinecolor\":\"white\"},\"zaxis\":{\"backgroundcolor\":\"#E5ECF6\",\"gridcolor\":\"white\",\"gridwidth\":2,\"linecolor\":\"white\",\"showbackground\":true,\"ticks\":\"\",\"zerolinecolor\":\"white\"}},\"shapedefaults\":{\"line\":{\"color\":\"#2a3f5f\"}},\"ternary\":{\"aaxis\":{\"gridcolor\":\"white\",\"linecolor\":\"white\",\"ticks\":\"\"},\"baxis\":{\"gridcolor\":\"white\",\"linecolor\":\"white\",\"ticks\":\"\"},\"bgcolor\":\"#E5ECF6\",\"caxis\":{\"gridcolor\":\"white\",\"linecolor\":\"white\",\"ticks\":\"\"}},\"title\":{\"x\":0.05},\"xaxis\":{\"automargin\":true,\"gridcolor\":\"white\",\"linecolor\":\"white\",\"ticks\":\"\",\"title\":{\"standoff\":15},\"zerolinecolor\":\"white\",\"zerolinewidth\":2},\"yaxis\":{\"automargin\":true,\"gridcolor\":\"white\",\"linecolor\":\"white\",\"ticks\":\"\",\"title\":{\"standoff\":15},\"zerolinecolor\":\"white\",\"zerolinewidth\":2}}},\"mapbox\":{\"center\":{\"lat\":55,\"lon\":-3},\"bearing\":0,\"pitch\":0,\"zoom\":4,\"style\":\"stamen-toner\"},\"height\":700,\"hovermode\":\"closest\"},                        {\"responsive\": true}                    ).then(function(){\n",
       "                            \n",
       "var gd = document.getElementById('cb5df9f8-737f-4445-8cf6-2b70afb7d19c');\n",
       "var x = new MutationObserver(function (mutations, observer) {{\n",
       "        var display = window.getComputedStyle(gd).display;\n",
       "        if (!display || display === 'none') {{\n",
       "            console.log([gd, 'removed!']);\n",
       "            Plotly.purge(gd);\n",
       "            observer.disconnect();\n",
       "        }}\n",
       "}});\n",
       "\n",
       "// Listen for the removal of the full notebook cells\n",
       "var notebookContainer = gd.closest('#notebook-container');\n",
       "if (notebookContainer) {{\n",
       "    x.observe(notebookContainer, {childList: true});\n",
       "}}\n",
       "\n",
       "// Listen for the clearing of the current output cell\n",
       "var outputEl = gd.closest('.output');\n",
       "if (outputEl) {{\n",
       "    x.observe(outputEl, {childList: true});\n",
       "}}\n",
       "\n",
       "                        })                };                });            </script>        </div>"
      ]
     },
     "metadata": {},
     "output_type": "display_data"
    }
   ],
   "source": [
    "Plastic_map=go.Figure(\n",
    "    go.Scattermapbox(lon=grouped['Longit'],\n",
    "                     lat=grouped['Lat'], \n",
    "                     text=grouped['Beach'],                     \n",
    "                     hovertemplate=\n",
    "                    \"<b>%{text}</b><br><br>\" +\n",
    "                    \"Weight: %{marker.size:.2f}<br>\",\n",
    "                     marker=dict(\n",
    "                            size=grouped['Weight'].values.astype('float'),\n",
    "                            color='orange',\n",
    "                            sizemode='area',\n",
    "                            sizeref=10)),\n",
    "                     \n",
    "                    \n",
    "                    \n",
    ")\n",
    "Plastic_map.update_layout(\n",
    "    height=700,\n",
    "    hovermode='closest',\n",
    "    mapbox=dict(\n",
    "                    bearing=0,\n",
    "                    center=dict(\n",
    "                        lat=55,\n",
    "                        lon=-3,\n",
    "                    ),\n",
    "                    pitch=0,\n",
    "                    zoom=4,\n",
    "                    style=\"stamen-toner\",)\n",
    ")\n",
    "Plastic_map.show()"
   ]
  },
  {
   "cell_type": "markdown",
   "metadata": {
    "tags": []
   },
   "source": [
    "## The most pollution recovered on beaches"
   ]
  },
  {
   "cell_type": "code",
   "execution_count": 33,
   "metadata": {
    "jupyter": {
     "source_hidden": true
    },
    "tags": []
   },
   "outputs": [
    {
     "data": {
      "application/vnd.plotly.v1+json": {
       "config": {
        "plotlyServerURL": "https://plot.ly"
       },
       "data": [
        {
         "type": "bar",
         "x": [
          "Dunnet",
          "Balnakeil",
          "Balinoe",
          "Balephuil Bay",
          "Solent",
          "Crossapol - Tiree",
          "Sandside",
          "Southend",
          "River Ribble",
          "Chessel Bay",
          "River Lea",
          "Scrabster",
          "Daymer Bay",
          "Corr-eileen",
          "Tweedbank",
          "Murkle",
          "Scouriemore (Cana Nam Buch)",
          "Balchladich",
          "Castletown",
          "Scarborough"
         ],
         "y": [
          9724.5163288,
          6394.03,
          6150.1,
          6127.78,
          5000,
          3739.33,
          3110.7712136,
          3108,
          3106,
          3066,
          3000,
          2890.5880704,
          2041,
          2000,
          1907,
          1885.4348464,
          1612.26,
          1552.9099999999999,
          1377.5561816,
          1303.5
         ]
        }
       ],
       "layout": {
        "autosize": true,
        "template": {
         "data": {
          "bar": [
           {
            "error_x": {
             "color": "#2a3f5f"
            },
            "error_y": {
             "color": "#2a3f5f"
            },
            "marker": {
             "line": {
              "color": "#E5ECF6",
              "width": 0.5
             },
             "pattern": {
              "fillmode": "overlay",
              "size": 10,
              "solidity": 0.2
             }
            },
            "type": "bar"
           }
          ],
          "barpolar": [
           {
            "marker": {
             "line": {
              "color": "#E5ECF6",
              "width": 0.5
             },
             "pattern": {
              "fillmode": "overlay",
              "size": 10,
              "solidity": 0.2
             }
            },
            "type": "barpolar"
           }
          ],
          "carpet": [
           {
            "aaxis": {
             "endlinecolor": "#2a3f5f",
             "gridcolor": "white",
             "linecolor": "white",
             "minorgridcolor": "white",
             "startlinecolor": "#2a3f5f"
            },
            "baxis": {
             "endlinecolor": "#2a3f5f",
             "gridcolor": "white",
             "linecolor": "white",
             "minorgridcolor": "white",
             "startlinecolor": "#2a3f5f"
            },
            "type": "carpet"
           }
          ],
          "choropleth": [
           {
            "colorbar": {
             "outlinewidth": 0,
             "ticks": ""
            },
            "type": "choropleth"
           }
          ],
          "contour": [
           {
            "colorbar": {
             "outlinewidth": 0,
             "ticks": ""
            },
            "colorscale": [
             [
              0,
              "#0d0887"
             ],
             [
              0.1111111111111111,
              "#46039f"
             ],
             [
              0.2222222222222222,
              "#7201a8"
             ],
             [
              0.3333333333333333,
              "#9c179e"
             ],
             [
              0.4444444444444444,
              "#bd3786"
             ],
             [
              0.5555555555555556,
              "#d8576b"
             ],
             [
              0.6666666666666666,
              "#ed7953"
             ],
             [
              0.7777777777777778,
              "#fb9f3a"
             ],
             [
              0.8888888888888888,
              "#fdca26"
             ],
             [
              1,
              "#f0f921"
             ]
            ],
            "type": "contour"
           }
          ],
          "contourcarpet": [
           {
            "colorbar": {
             "outlinewidth": 0,
             "ticks": ""
            },
            "type": "contourcarpet"
           }
          ],
          "heatmap": [
           {
            "colorbar": {
             "outlinewidth": 0,
             "ticks": ""
            },
            "colorscale": [
             [
              0,
              "#0d0887"
             ],
             [
              0.1111111111111111,
              "#46039f"
             ],
             [
              0.2222222222222222,
              "#7201a8"
             ],
             [
              0.3333333333333333,
              "#9c179e"
             ],
             [
              0.4444444444444444,
              "#bd3786"
             ],
             [
              0.5555555555555556,
              "#d8576b"
             ],
             [
              0.6666666666666666,
              "#ed7953"
             ],
             [
              0.7777777777777778,
              "#fb9f3a"
             ],
             [
              0.8888888888888888,
              "#fdca26"
             ],
             [
              1,
              "#f0f921"
             ]
            ],
            "type": "heatmap"
           }
          ],
          "heatmapgl": [
           {
            "colorbar": {
             "outlinewidth": 0,
             "ticks": ""
            },
            "colorscale": [
             [
              0,
              "#0d0887"
             ],
             [
              0.1111111111111111,
              "#46039f"
             ],
             [
              0.2222222222222222,
              "#7201a8"
             ],
             [
              0.3333333333333333,
              "#9c179e"
             ],
             [
              0.4444444444444444,
              "#bd3786"
             ],
             [
              0.5555555555555556,
              "#d8576b"
             ],
             [
              0.6666666666666666,
              "#ed7953"
             ],
             [
              0.7777777777777778,
              "#fb9f3a"
             ],
             [
              0.8888888888888888,
              "#fdca26"
             ],
             [
              1,
              "#f0f921"
             ]
            ],
            "type": "heatmapgl"
           }
          ],
          "histogram": [
           {
            "marker": {
             "pattern": {
              "fillmode": "overlay",
              "size": 10,
              "solidity": 0.2
             }
            },
            "type": "histogram"
           }
          ],
          "histogram2d": [
           {
            "colorbar": {
             "outlinewidth": 0,
             "ticks": ""
            },
            "colorscale": [
             [
              0,
              "#0d0887"
             ],
             [
              0.1111111111111111,
              "#46039f"
             ],
             [
              0.2222222222222222,
              "#7201a8"
             ],
             [
              0.3333333333333333,
              "#9c179e"
             ],
             [
              0.4444444444444444,
              "#bd3786"
             ],
             [
              0.5555555555555556,
              "#d8576b"
             ],
             [
              0.6666666666666666,
              "#ed7953"
             ],
             [
              0.7777777777777778,
              "#fb9f3a"
             ],
             [
              0.8888888888888888,
              "#fdca26"
             ],
             [
              1,
              "#f0f921"
             ]
            ],
            "type": "histogram2d"
           }
          ],
          "histogram2dcontour": [
           {
            "colorbar": {
             "outlinewidth": 0,
             "ticks": ""
            },
            "colorscale": [
             [
              0,
              "#0d0887"
             ],
             [
              0.1111111111111111,
              "#46039f"
             ],
             [
              0.2222222222222222,
              "#7201a8"
             ],
             [
              0.3333333333333333,
              "#9c179e"
             ],
             [
              0.4444444444444444,
              "#bd3786"
             ],
             [
              0.5555555555555556,
              "#d8576b"
             ],
             [
              0.6666666666666666,
              "#ed7953"
             ],
             [
              0.7777777777777778,
              "#fb9f3a"
             ],
             [
              0.8888888888888888,
              "#fdca26"
             ],
             [
              1,
              "#f0f921"
             ]
            ],
            "type": "histogram2dcontour"
           }
          ],
          "mesh3d": [
           {
            "colorbar": {
             "outlinewidth": 0,
             "ticks": ""
            },
            "type": "mesh3d"
           }
          ],
          "parcoords": [
           {
            "line": {
             "colorbar": {
              "outlinewidth": 0,
              "ticks": ""
             }
            },
            "type": "parcoords"
           }
          ],
          "pie": [
           {
            "automargin": true,
            "type": "pie"
           }
          ],
          "scatter": [
           {
            "marker": {
             "colorbar": {
              "outlinewidth": 0,
              "ticks": ""
             }
            },
            "type": "scatter"
           }
          ],
          "scatter3d": [
           {
            "line": {
             "colorbar": {
              "outlinewidth": 0,
              "ticks": ""
             }
            },
            "marker": {
             "colorbar": {
              "outlinewidth": 0,
              "ticks": ""
             }
            },
            "type": "scatter3d"
           }
          ],
          "scattercarpet": [
           {
            "marker": {
             "colorbar": {
              "outlinewidth": 0,
              "ticks": ""
             }
            },
            "type": "scattercarpet"
           }
          ],
          "scattergeo": [
           {
            "marker": {
             "colorbar": {
              "outlinewidth": 0,
              "ticks": ""
             }
            },
            "type": "scattergeo"
           }
          ],
          "scattergl": [
           {
            "marker": {
             "colorbar": {
              "outlinewidth": 0,
              "ticks": ""
             }
            },
            "type": "scattergl"
           }
          ],
          "scattermapbox": [
           {
            "marker": {
             "colorbar": {
              "outlinewidth": 0,
              "ticks": ""
             }
            },
            "type": "scattermapbox"
           }
          ],
          "scatterpolar": [
           {
            "marker": {
             "colorbar": {
              "outlinewidth": 0,
              "ticks": ""
             }
            },
            "type": "scatterpolar"
           }
          ],
          "scatterpolargl": [
           {
            "marker": {
             "colorbar": {
              "outlinewidth": 0,
              "ticks": ""
             }
            },
            "type": "scatterpolargl"
           }
          ],
          "scatterternary": [
           {
            "marker": {
             "colorbar": {
              "outlinewidth": 0,
              "ticks": ""
             }
            },
            "type": "scatterternary"
           }
          ],
          "surface": [
           {
            "colorbar": {
             "outlinewidth": 0,
             "ticks": ""
            },
            "colorscale": [
             [
              0,
              "#0d0887"
             ],
             [
              0.1111111111111111,
              "#46039f"
             ],
             [
              0.2222222222222222,
              "#7201a8"
             ],
             [
              0.3333333333333333,
              "#9c179e"
             ],
             [
              0.4444444444444444,
              "#bd3786"
             ],
             [
              0.5555555555555556,
              "#d8576b"
             ],
             [
              0.6666666666666666,
              "#ed7953"
             ],
             [
              0.7777777777777778,
              "#fb9f3a"
             ],
             [
              0.8888888888888888,
              "#fdca26"
             ],
             [
              1,
              "#f0f921"
             ]
            ],
            "type": "surface"
           }
          ],
          "table": [
           {
            "cells": {
             "fill": {
              "color": "#EBF0F8"
             },
             "line": {
              "color": "white"
             }
            },
            "header": {
             "fill": {
              "color": "#C8D4E3"
             },
             "line": {
              "color": "white"
             }
            },
            "type": "table"
           }
          ]
         },
         "layout": {
          "annotationdefaults": {
           "arrowcolor": "#2a3f5f",
           "arrowhead": 0,
           "arrowwidth": 1
          },
          "autotypenumbers": "strict",
          "coloraxis": {
           "colorbar": {
            "outlinewidth": 0,
            "ticks": ""
           }
          },
          "colorscale": {
           "diverging": [
            [
             0,
             "#8e0152"
            ],
            [
             0.1,
             "#c51b7d"
            ],
            [
             0.2,
             "#de77ae"
            ],
            [
             0.3,
             "#f1b6da"
            ],
            [
             0.4,
             "#fde0ef"
            ],
            [
             0.5,
             "#f7f7f7"
            ],
            [
             0.6,
             "#e6f5d0"
            ],
            [
             0.7,
             "#b8e186"
            ],
            [
             0.8,
             "#7fbc41"
            ],
            [
             0.9,
             "#4d9221"
            ],
            [
             1,
             "#276419"
            ]
           ],
           "sequential": [
            [
             0,
             "#0d0887"
            ],
            [
             0.1111111111111111,
             "#46039f"
            ],
            [
             0.2222222222222222,
             "#7201a8"
            ],
            [
             0.3333333333333333,
             "#9c179e"
            ],
            [
             0.4444444444444444,
             "#bd3786"
            ],
            [
             0.5555555555555556,
             "#d8576b"
            ],
            [
             0.6666666666666666,
             "#ed7953"
            ],
            [
             0.7777777777777778,
             "#fb9f3a"
            ],
            [
             0.8888888888888888,
             "#fdca26"
            ],
            [
             1,
             "#f0f921"
            ]
           ],
           "sequentialminus": [
            [
             0,
             "#0d0887"
            ],
            [
             0.1111111111111111,
             "#46039f"
            ],
            [
             0.2222222222222222,
             "#7201a8"
            ],
            [
             0.3333333333333333,
             "#9c179e"
            ],
            [
             0.4444444444444444,
             "#bd3786"
            ],
            [
             0.5555555555555556,
             "#d8576b"
            ],
            [
             0.6666666666666666,
             "#ed7953"
            ],
            [
             0.7777777777777778,
             "#fb9f3a"
            ],
            [
             0.8888888888888888,
             "#fdca26"
            ],
            [
             1,
             "#f0f921"
            ]
           ]
          },
          "colorway": [
           "#636efa",
           "#EF553B",
           "#00cc96",
           "#ab63fa",
           "#FFA15A",
           "#19d3f3",
           "#FF6692",
           "#B6E880",
           "#FF97FF",
           "#FECB52"
          ],
          "font": {
           "color": "#2a3f5f"
          },
          "geo": {
           "bgcolor": "white",
           "lakecolor": "white",
           "landcolor": "#E5ECF6",
           "showlakes": true,
           "showland": true,
           "subunitcolor": "white"
          },
          "hoverlabel": {
           "align": "left"
          },
          "hovermode": "closest",
          "mapbox": {
           "style": "light"
          },
          "paper_bgcolor": "white",
          "plot_bgcolor": "#E5ECF6",
          "polar": {
           "angularaxis": {
            "gridcolor": "white",
            "linecolor": "white",
            "ticks": ""
           },
           "bgcolor": "#E5ECF6",
           "radialaxis": {
            "gridcolor": "white",
            "linecolor": "white",
            "ticks": ""
           }
          },
          "scene": {
           "xaxis": {
            "backgroundcolor": "#E5ECF6",
            "gridcolor": "white",
            "gridwidth": 2,
            "linecolor": "white",
            "showbackground": true,
            "ticks": "",
            "zerolinecolor": "white"
           },
           "yaxis": {
            "backgroundcolor": "#E5ECF6",
            "gridcolor": "white",
            "gridwidth": 2,
            "linecolor": "white",
            "showbackground": true,
            "ticks": "",
            "zerolinecolor": "white"
           },
           "zaxis": {
            "backgroundcolor": "#E5ECF6",
            "gridcolor": "white",
            "gridwidth": 2,
            "linecolor": "white",
            "showbackground": true,
            "ticks": "",
            "zerolinecolor": "white"
           }
          },
          "shapedefaults": {
           "line": {
            "color": "#2a3f5f"
           }
          },
          "ternary": {
           "aaxis": {
            "gridcolor": "white",
            "linecolor": "white",
            "ticks": ""
           },
           "baxis": {
            "gridcolor": "white",
            "linecolor": "white",
            "ticks": ""
           },
           "bgcolor": "#E5ECF6",
           "caxis": {
            "gridcolor": "white",
            "linecolor": "white",
            "ticks": ""
           }
          },
          "title": {
           "x": 0.05
          },
          "xaxis": {
           "automargin": true,
           "gridcolor": "white",
           "linecolor": "white",
           "ticks": "",
           "title": {
            "standoff": 15
           },
           "zerolinecolor": "white",
           "zerolinewidth": 2
          },
          "yaxis": {
           "automargin": true,
           "gridcolor": "white",
           "linecolor": "white",
           "ticks": "",
           "title": {
            "standoff": 15
           },
           "zerolinecolor": "white",
           "zerolinewidth": 2
          }
         }
        },
        "xaxis": {
         "autorange": true,
         "range": [
          -0.5,
          19.5
         ],
         "type": "category"
        },
        "yaxis": {
         "autorange": true,
         "range": [
          0,
          10236.332977684211
         ],
         "title": {
          "text": "kg"
         },
         "type": "linear"
        }
       }
      },
      "image/png": "[encoded data removed]",
      "text/html": [
       "<div>                            <div id=\"ea54d2d2-a9f8-44a3-bec2-d2b61ab404b4\" class=\"plotly-graph-div\" style=\"height:500px; width:100%;\"></div>            <script type=\"text/javascript\">                require([\"plotly\"], function(Plotly) {                    window.PLOTLYENV=window.PLOTLYENV || {};                                    if (document.getElementById(\"ea54d2d2-a9f8-44a3-bec2-d2b61ab404b4\")) {                    Plotly.newPlot(                        \"ea54d2d2-a9f8-44a3-bec2-d2b61ab404b4\",                        [{\"x\":[\"Dunnet\",\"Balnakeil\",\"Balinoe\",\"Balephuil Bay\",\"Solent\",\"Crossapol - Tiree\",\"Sandside\",\"Southend\",\"River Ribble\",\"Chessel Bay\",\"River Lea\",\"Scrabster\",\"Daymer Bay\",\"Corr-eileen\",\"Tweedbank\",\"Murkle\",\"Scouriemore (Cana Nam Buch)\",\"Balchladich\",\"Castletown\",\"Scarborough\"],\"y\":[9724.5163288,6394.03,6150.1,6127.78,5000.0,3739.33,3110.7712136,3108.0,3106.0,3066.0,3000.0,2890.5880704,2041.0,2000.0,1907.0,1885.4348464,1612.26,1552.9099999999999,1377.5561816,1303.5],\"type\":\"bar\"}],                        {\"template\":{\"data\":{\"bar\":[{\"error_x\":{\"color\":\"#2a3f5f\"},\"error_y\":{\"color\":\"#2a3f5f\"},\"marker\":{\"line\":{\"color\":\"#E5ECF6\",\"width\":0.5},\"pattern\":{\"fillmode\":\"overlay\",\"size\":10,\"solidity\":0.2}},\"type\":\"bar\"}],\"barpolar\":[{\"marker\":{\"line\":{\"color\":\"#E5ECF6\",\"width\":0.5},\"pattern\":{\"fillmode\":\"overlay\",\"size\":10,\"solidity\":0.2}},\"type\":\"barpolar\"}],\"carpet\":[{\"aaxis\":{\"endlinecolor\":\"#2a3f5f\",\"gridcolor\":\"white\",\"linecolor\":\"white\",\"minorgridcolor\":\"white\",\"startlinecolor\":\"#2a3f5f\"},\"baxis\":{\"endlinecolor\":\"#2a3f5f\",\"gridcolor\":\"white\",\"linecolor\":\"white\",\"minorgridcolor\":\"white\",\"startlinecolor\":\"#2a3f5f\"},\"type\":\"carpet\"}],\"choropleth\":[{\"colorbar\":{\"outlinewidth\":0,\"ticks\":\"\"},\"type\":\"choropleth\"}],\"contour\":[{\"colorbar\":{\"outlinewidth\":0,\"ticks\":\"\"},\"colorscale\":[[0.0,\"#0d0887\"],[0.1111111111111111,\"#46039f\"],[0.2222222222222222,\"#7201a8\"],[0.3333333333333333,\"#9c179e\"],[0.4444444444444444,\"#bd3786\"],[0.5555555555555556,\"#d8576b\"],[0.6666666666666666,\"#ed7953\"],[0.7777777777777778,\"#fb9f3a\"],[0.8888888888888888,\"#fdca26\"],[1.0,\"#f0f921\"]],\"type\":\"contour\"}],\"contourcarpet\":[{\"colorbar\":{\"outlinewidth\":0,\"ticks\":\"\"},\"type\":\"contourcarpet\"}],\"heatmap\":[{\"colorbar\":{\"outlinewidth\":0,\"ticks\":\"\"},\"colorscale\":[[0.0,\"#0d0887\"],[0.1111111111111111,\"#46039f\"],[0.2222222222222222,\"#7201a8\"],[0.3333333333333333,\"#9c179e\"],[0.4444444444444444,\"#bd3786\"],[0.5555555555555556,\"#d8576b\"],[0.6666666666666666,\"#ed7953\"],[0.7777777777777778,\"#fb9f3a\"],[0.8888888888888888,\"#fdca26\"],[1.0,\"#f0f921\"]],\"type\":\"heatmap\"}],\"heatmapgl\":[{\"colorbar\":{\"outlinewidth\":0,\"ticks\":\"\"},\"colorscale\":[[0.0,\"#0d0887\"],[0.1111111111111111,\"#46039f\"],[0.2222222222222222,\"#7201a8\"],[0.3333333333333333,\"#9c179e\"],[0.4444444444444444,\"#bd3786\"],[0.5555555555555556,\"#d8576b\"],[0.6666666666666666,\"#ed7953\"],[0.7777777777777778,\"#fb9f3a\"],[0.8888888888888888,\"#fdca26\"],[1.0,\"#f0f921\"]],\"type\":\"heatmapgl\"}],\"histogram\":[{\"marker\":{\"pattern\":{\"fillmode\":\"overlay\",\"size\":10,\"solidity\":0.2}},\"type\":\"histogram\"}],\"histogram2d\":[{\"colorbar\":{\"outlinewidth\":0,\"ticks\":\"\"},\"colorscale\":[[0.0,\"#0d0887\"],[0.1111111111111111,\"#46039f\"],[0.2222222222222222,\"#7201a8\"],[0.3333333333333333,\"#9c179e\"],[0.4444444444444444,\"#bd3786\"],[0.5555555555555556,\"#d8576b\"],[0.6666666666666666,\"#ed7953\"],[0.7777777777777778,\"#fb9f3a\"],[0.8888888888888888,\"#fdca26\"],[1.0,\"#f0f921\"]],\"type\":\"histogram2d\"}],\"histogram2dcontour\":[{\"colorbar\":{\"outlinewidth\":0,\"ticks\":\"\"},\"colorscale\":[[0.0,\"#0d0887\"],[0.1111111111111111,\"#46039f\"],[0.2222222222222222,\"#7201a8\"],[0.3333333333333333,\"#9c179e\"],[0.4444444444444444,\"#bd3786\"],[0.5555555555555556,\"#d8576b\"],[0.6666666666666666,\"#ed7953\"],[0.7777777777777778,\"#fb9f3a\"],[0.8888888888888888,\"#fdca26\"],[1.0,\"#f0f921\"]],\"type\":\"histogram2dcontour\"}],\"mesh3d\":[{\"colorbar\":{\"outlinewidth\":0,\"ticks\":\"\"},\"type\":\"mesh3d\"}],\"parcoords\":[{\"line\":{\"colorbar\":{\"outlinewidth\":0,\"ticks\":\"\"}},\"type\":\"parcoords\"}],\"pie\":[{\"automargin\":true,\"type\":\"pie\"}],\"scatter\":[{\"marker\":{\"colorbar\":{\"outlinewidth\":0,\"ticks\":\"\"}},\"type\":\"scatter\"}],\"scatter3d\":[{\"line\":{\"colorbar\":{\"outlinewidth\":0,\"ticks\":\"\"}},\"marker\":{\"colorbar\":{\"outlinewidth\":0,\"ticks\":\"\"}},\"type\":\"scatter3d\"}],\"scattercarpet\":[{\"marker\":{\"colorbar\":{\"outlinewidth\":0,\"ticks\":\"\"}},\"type\":\"scattercarpet\"}],\"scattergeo\":[{\"marker\":{\"colorbar\":{\"outlinewidth\":0,\"ticks\":\"\"}},\"type\":\"scattergeo\"}],\"scattergl\":[{\"marker\":{\"colorbar\":{\"outlinewidth\":0,\"ticks\":\"\"}},\"type\":\"scattergl\"}],\"scattermapbox\":[{\"marker\":{\"colorbar\":{\"outlinewidth\":0,\"ticks\":\"\"}},\"type\":\"scattermapbox\"}],\"scatterpolar\":[{\"marker\":{\"colorbar\":{\"outlinewidth\":0,\"ticks\":\"\"}},\"type\":\"scatterpolar\"}],\"scatterpolargl\":[{\"marker\":{\"colorbar\":{\"outlinewidth\":0,\"ticks\":\"\"}},\"type\":\"scatterpolargl\"}],\"scatterternary\":[{\"marker\":{\"colorbar\":{\"outlinewidth\":0,\"ticks\":\"\"}},\"type\":\"scatterternary\"}],\"surface\":[{\"colorbar\":{\"outlinewidth\":0,\"ticks\":\"\"},\"colorscale\":[[0.0,\"#0d0887\"],[0.1111111111111111,\"#46039f\"],[0.2222222222222222,\"#7201a8\"],[0.3333333333333333,\"#9c179e\"],[0.4444444444444444,\"#bd3786\"],[0.5555555555555556,\"#d8576b\"],[0.6666666666666666,\"#ed7953\"],[0.7777777777777778,\"#fb9f3a\"],[0.8888888888888888,\"#fdca26\"],[1.0,\"#f0f921\"]],\"type\":\"surface\"}],\"table\":[{\"cells\":{\"fill\":{\"color\":\"#EBF0F8\"},\"line\":{\"color\":\"white\"}},\"header\":{\"fill\":{\"color\":\"#C8D4E3\"},\"line\":{\"color\":\"white\"}},\"type\":\"table\"}]},\"layout\":{\"annotationdefaults\":{\"arrowcolor\":\"#2a3f5f\",\"arrowhead\":0,\"arrowwidth\":1},\"autotypenumbers\":\"strict\",\"coloraxis\":{\"colorbar\":{\"outlinewidth\":0,\"ticks\":\"\"}},\"colorscale\":{\"diverging\":[[0,\"#8e0152\"],[0.1,\"#c51b7d\"],[0.2,\"#de77ae\"],[0.3,\"#f1b6da\"],[0.4,\"#fde0ef\"],[0.5,\"#f7f7f7\"],[0.6,\"#e6f5d0\"],[0.7,\"#b8e186\"],[0.8,\"#7fbc41\"],[0.9,\"#4d9221\"],[1,\"#276419\"]],\"sequential\":[[0.0,\"#0d0887\"],[0.1111111111111111,\"#46039f\"],[0.2222222222222222,\"#7201a8\"],[0.3333333333333333,\"#9c179e\"],[0.4444444444444444,\"#bd3786\"],[0.5555555555555556,\"#d8576b\"],[0.6666666666666666,\"#ed7953\"],[0.7777777777777778,\"#fb9f3a\"],[0.8888888888888888,\"#fdca26\"],[1.0,\"#f0f921\"]],\"sequentialminus\":[[0.0,\"#0d0887\"],[0.1111111111111111,\"#46039f\"],[0.2222222222222222,\"#7201a8\"],[0.3333333333333333,\"#9c179e\"],[0.4444444444444444,\"#bd3786\"],[0.5555555555555556,\"#d8576b\"],[0.6666666666666666,\"#ed7953\"],[0.7777777777777778,\"#fb9f3a\"],[0.8888888888888888,\"#fdca26\"],[1.0,\"#f0f921\"]]},\"colorway\":[\"#636efa\",\"#EF553B\",\"#00cc96\",\"#ab63fa\",\"#FFA15A\",\"#19d3f3\",\"#FF6692\",\"#B6E880\",\"#FF97FF\",\"#FECB52\"],\"font\":{\"color\":\"#2a3f5f\"},\"geo\":{\"bgcolor\":\"white\",\"lakecolor\":\"white\",\"landcolor\":\"#E5ECF6\",\"showlakes\":true,\"showland\":true,\"subunitcolor\":\"white\"},\"hoverlabel\":{\"align\":\"left\"},\"hovermode\":\"closest\",\"mapbox\":{\"style\":\"light\"},\"paper_bgcolor\":\"white\",\"plot_bgcolor\":\"#E5ECF6\",\"polar\":{\"angularaxis\":{\"gridcolor\":\"white\",\"linecolor\":\"white\",\"ticks\":\"\"},\"bgcolor\":\"#E5ECF6\",\"radialaxis\":{\"gridcolor\":\"white\",\"linecolor\":\"white\",\"ticks\":\"\"}},\"scene\":{\"xaxis\":{\"backgroundcolor\":\"#E5ECF6\",\"gridcolor\":\"white\",\"gridwidth\":2,\"linecolor\":\"white\",\"showbackground\":true,\"ticks\":\"\",\"zerolinecolor\":\"white\"},\"yaxis\":{\"backgroundcolor\":\"#E5ECF6\",\"gridcolor\":\"white\",\"gridwidth\":2,\"linecolor\":\"white\",\"showbackground\":true,\"ticks\":\"\",\"zerolinecolor\":\"white\"},\"zaxis\":{\"backgroundcolor\":\"#E5ECF6\",\"gridcolor\":\"white\",\"gridwidth\":2,\"linecolor\":\"white\",\"showbackground\":true,\"ticks\":\"\",\"zerolinecolor\":\"white\"}},\"shapedefaults\":{\"line\":{\"color\":\"#2a3f5f\"}},\"ternary\":{\"aaxis\":{\"gridcolor\":\"white\",\"linecolor\":\"white\",\"ticks\":\"\"},\"baxis\":{\"gridcolor\":\"white\",\"linecolor\":\"white\",\"ticks\":\"\"},\"bgcolor\":\"#E5ECF6\",\"caxis\":{\"gridcolor\":\"white\",\"linecolor\":\"white\",\"ticks\":\"\"}},\"title\":{\"x\":0.05},\"xaxis\":{\"automargin\":true,\"gridcolor\":\"white\",\"linecolor\":\"white\",\"ticks\":\"\",\"title\":{\"standoff\":15},\"zerolinecolor\":\"white\",\"zerolinewidth\":2},\"yaxis\":{\"automargin\":true,\"gridcolor\":\"white\",\"linecolor\":\"white\",\"ticks\":\"\",\"title\":{\"standoff\":15},\"zerolinecolor\":\"white\",\"zerolinewidth\":2}}},\"height\":500,\"yaxis\":{\"title\":{\"text\":\"kg\"}}},                        {\"responsive\": true}                    ).then(function(){\n",
       "                            \n",
       "var gd = document.getElementById('ea54d2d2-a9f8-44a3-bec2-d2b61ab404b4');\n",
       "var x = new MutationObserver(function (mutations, observer) {{\n",
       "        var display = window.getComputedStyle(gd).display;\n",
       "        if (!display || display === 'none') {{\n",
       "            console.log([gd, 'removed!']);\n",
       "            Plotly.purge(gd);\n",
       "            observer.disconnect();\n",
       "        }}\n",
       "}});\n",
       "\n",
       "// Listen for the removal of the full notebook cells\n",
       "var notebookContainer = gd.closest('#notebook-container');\n",
       "if (notebookContainer) {{\n",
       "    x.observe(notebookContainer, {childList: true});\n",
       "}}\n",
       "\n",
       "// Listen for the clearing of the current output cell\n",
       "var outputEl = gd.closest('.output');\n",
       "if (outputEl) {{\n",
       "    x.observe(outputEl, {childList: true});\n",
       "}}\n",
       "\n",
       "                        })                };                });            </script>        </div>"
      ]
     },
     "metadata": {},
     "output_type": "display_data"
    }
   ],
   "source": [
    "subdf=grouped.sort_values(by=['Weight'], ascending=False)[:20]\n",
    "fig_nbcleans=go.Figure()\n",
    "fig_nbcleans.add_trace(go.Bar(x=subdf['Beach'],\n",
    "                              y=subdf['Weight']))\n",
    "fig_nbcleans.update_layout(\n",
    "    height=500,\n",
    "    yaxis={'title':'kg'})"
   ]
  },
  {
   "cell_type": "markdown",
   "metadata": {},
   "source": [
    "---\n",
    "\n",
    "## Plastic pollution, a non-linear problem in constant acceleration\n",
    "\n",
    "![rates of pollution](figures/rate_of_pollution.png)\n",
    "\n",
    "---"
   ]
  },
  {
   "cell_type": "markdown",
   "metadata": {},
   "source": [
    "## plastic pollution, a seasonal trigger\n",
    "![polar plots season](figures/seasons.png)"
   ]
  },
  {
   "cell_type": "markdown",
   "metadata": {},
   "source": [
    "---\n",
    "\n",
    "## Hey wait! Is that reminding you of something?\n",
    "### Sedimentological chaos maybe?\n",
    "### A highly non-linear system that provides different behaviours to clast size classes shapes and compositions...\n",
    "\n",
    "## Are macroplastics simply sediments?\n",
    "![sediment_cap](figures/sediment_cap.png)"
   ]
  },
  {
   "cell_type": "markdown",
   "metadata": {},
   "source": [
    "## Apparently, mega-plastics are and pretty annoying ones at that\n",
    "### They are pretty big\n",
    "![cutting](figures/cutting.gif)\n",
    "### And they are pretty deep\n",
    "![digging](figures/digging.gif)\n",
    "\n",
    "It took 2 years to dig out this net, it was nearly 3m bellow the beach surface in 2018 when we started digging\n",
    "\n",
    "---\n"
   ]
  },
  {
   "cell_type": "markdown",
   "metadata": {},
   "source": [
    "## Based on our observations, we came up with a simple model\n",
    "![model sedimento](figures/model.png)\n",
    "### The take away message is that you cannot go in fairweather time and expect having a proper view of the pollution. Going in the summer at some exotic location will systematically return a very underestimated amount of plastic. \n",
    "* In the summer, we observe less than 1% of the yearly plastic accumulations.  \n",
    "* In the summer we never observe base-level lowering of the beach profile\n",
    "* Megaplastics mainly occur in the winter\n",
    "---"
   ]
  },
  {
   "cell_type": "markdown",
   "metadata": {},
   "source": [
    "## Plastic accumulation zones\n",
    "### Coastal accumulation of plastic is challenged in a large part of the literature\n",
    "### The main argument is that most of the plastic is in transit\n",
    "### The kind of coastline surveyed\n",
    "![longshore drift](figures/longshore_drift.jpeg)\n",
    "### the whole system is transient and even\n",
    "### We observe drastic changes from place to place with local increases of pollution by 1500% "
   ]
  },
  {
   "cell_type": "markdown",
   "metadata": {},
   "source": [
    "## Input from numerical models\n",
    "![old model](figures/old_model.png)\n",
    "### Clustering happens at sea"
   ]
  },
  {
   "cell_type": "code",
   "execution_count": 45,
   "metadata": {
    "jupyter": {
     "source_hidden": true
    },
    "tags": []
   },
   "outputs": [
    {
     "data": {
      "text/html": [
       "<video src=\"https://video.wixstatic.com/video/f6b0cc_be3b6189e4cd417fad1fcb225e777ecd/720p/mp4/file.mp4\" controls  width=\"600\" >\n",
       "      Your browser does not support the <code>video</code> element.\n",
       "    </video>"
      ],
      "text/plain": [
       "<IPython.core.display.Video object>"
      ]
     },
     "execution_count": 45,
     "metadata": {},
     "output_type": "execute_result"
    }
   ],
   "source": [
    "from IPython.display import Video\n",
    "Video('https://video.wixstatic.com/video/f6b0cc_be3b6189e4cd417fad1fcb225e777ecd/720p/mp4/file.mp4', width=600)"
   ]
  },
  {
   "cell_type": "markdown",
   "metadata": {},
   "source": [
    "## How does plastic accumulates for a long time in the coastal environment?\n",
    "![matrix](figures/matrix.png)\n",
    "### Onshore winds, strong tides and rugged coastline\n",
    "![wind_tide model](figures/wind_tide_model.png)"
   ]
  },
  {
   "cell_type": "markdown",
   "metadata": {},
   "source": [
    "---\n",
    "\n",
    "## What next? \n",
    "* Make a better mass balance budget of the West Coast and Hebrides. Currently oscillating between 0.5 and 10 million tons of yearly accumulations from *back-of-the-envelop* calculations.\n",
    "* Provide detailed numerical simulations of the accumulation phenomena to locate and remediate the areas the most at risk.\n",
    "* Better investigate transport on the seabed, up to 50% of our plastics are denser than water\n",
    "* We are also deeply involved in open-hardware for recycling these specific plastics but that would be for another talk!\n",
    "\n",
    "\n",
    "---\n",
    "\n",
    "## Thanks for your attention and thanks to our supporters and co-workers\n",
    "In particular Joan, Ella, Roz, Tom Scanlon (MTS CFD), all our rangers and volunteers\n",
    "![award](figures/award.jpg)\n",
    "\n",
    "The talk material is available here:\n",
    "https://github.com/Boorhin/Talk_CPH_02_22/blob/main/CPH_talk_feb_22.ipynb"
   ]
  },
  {
   "cell_type": "code",
   "execution_count": null,
   "metadata": {},
   "outputs": [],
   "source": []
  }
 ],
 "metadata": {
  "environment": {
   "kernel": "python3",
   "name": "common-cpu.m87",
   "type": "gcloud",
   "uri": "gcr.io/deeplearning-platform-release/base-cpu:m87"
  },
  "kernelspec": {
   "display_name": "Python 3",
   "language": "python",
   "name": "python3"
  },
  "language_info": {
   "codemirror_mode": {
    "name": "ipython",
    "version": 3
   },
   "file_extension": ".py",
   "mimetype": "text/x-python",
   "name": "python",
   "nbconvert_exporter": "python",
   "pygments_lexer": "ipython3",
   "version": "3.7.12"
  }
 },
 "nbformat": 4,
 "nbformat_minor": 4
}
